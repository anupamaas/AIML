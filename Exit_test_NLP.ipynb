{
  "nbformat": 4,
  "nbformat_minor": 0,
  "metadata": {
    "colab": {
      "provenance": []
    },
    "kernelspec": {
      "name": "python3",
      "display_name": "Python 3"
    },
    "language_info": {
      "name": "python"
    }
  },
  "cells": [
    {
      "cell_type": "code",
      "execution_count": 3,
      "metadata": {
        "id": "UIBK_yrNjexZ"
      },
      "outputs": [],
      "source": [
        "import pandas as pd\n",
        "import numpy as np\n"
      ]
    },
    {
      "cell_type": "markdown",
      "source": [
        "Loading the dataset"
      ],
      "metadata": {
        "id": "hhr3nGpLk4qS"
      }
    },
    {
      "cell_type": "code",
      "source": [
        "data=pd.read_csv(\"/content/tweet_emotions.csv\")"
      ],
      "metadata": {
        "id": "JIfG-0QvjtVW"
      },
      "execution_count": 4,
      "outputs": []
    },
    {
      "cell_type": "markdown",
      "source": [
        "Inspecting the dataset"
      ],
      "metadata": {
        "id": "WIZVKO0LmdAx"
      }
    },
    {
      "cell_type": "code",
      "source": [
        "data.head()"
      ],
      "metadata": {
        "colab": {
          "base_uri": "https://localhost:8080/",
          "height": 206
        },
        "id": "v9w5_yobkFKL",
        "outputId": "b0d55371-dc08-4f06-b33e-c8f0042a2f89"
      },
      "execution_count": 5,
      "outputs": [
        {
          "output_type": "execute_result",
          "data": {
            "text/plain": [
              "     tweet_id   sentiment                                            content\n",
              "0  1956967341       empty  @tiffanylue i know  i was listenin to bad habi...\n",
              "1  1956967666     sadness  Layin n bed with a headache  ughhhh...waitin o...\n",
              "2  1956967696     sadness                Funeral ceremony...gloomy friday...\n",
              "3  1956967789  enthusiasm               wants to hang out with friends SOON!\n",
              "4  1956968416     neutral  @dannycastillo We want to trade with someone w..."
            ],
            "text/html": [
              "\n",
              "  <div id=\"df-d0364051-d307-43cf-b652-6fcf8f31bd77\" class=\"colab-df-container\">\n",
              "    <div>\n",
              "<style scoped>\n",
              "    .dataframe tbody tr th:only-of-type {\n",
              "        vertical-align: middle;\n",
              "    }\n",
              "\n",
              "    .dataframe tbody tr th {\n",
              "        vertical-align: top;\n",
              "    }\n",
              "\n",
              "    .dataframe thead th {\n",
              "        text-align: right;\n",
              "    }\n",
              "</style>\n",
              "<table border=\"1\" class=\"dataframe\">\n",
              "  <thead>\n",
              "    <tr style=\"text-align: right;\">\n",
              "      <th></th>\n",
              "      <th>tweet_id</th>\n",
              "      <th>sentiment</th>\n",
              "      <th>content</th>\n",
              "    </tr>\n",
              "  </thead>\n",
              "  <tbody>\n",
              "    <tr>\n",
              "      <th>0</th>\n",
              "      <td>1956967341</td>\n",
              "      <td>empty</td>\n",
              "      <td>@tiffanylue i know  i was listenin to bad habi...</td>\n",
              "    </tr>\n",
              "    <tr>\n",
              "      <th>1</th>\n",
              "      <td>1956967666</td>\n",
              "      <td>sadness</td>\n",
              "      <td>Layin n bed with a headache  ughhhh...waitin o...</td>\n",
              "    </tr>\n",
              "    <tr>\n",
              "      <th>2</th>\n",
              "      <td>1956967696</td>\n",
              "      <td>sadness</td>\n",
              "      <td>Funeral ceremony...gloomy friday...</td>\n",
              "    </tr>\n",
              "    <tr>\n",
              "      <th>3</th>\n",
              "      <td>1956967789</td>\n",
              "      <td>enthusiasm</td>\n",
              "      <td>wants to hang out with friends SOON!</td>\n",
              "    </tr>\n",
              "    <tr>\n",
              "      <th>4</th>\n",
              "      <td>1956968416</td>\n",
              "      <td>neutral</td>\n",
              "      <td>@dannycastillo We want to trade with someone w...</td>\n",
              "    </tr>\n",
              "  </tbody>\n",
              "</table>\n",
              "</div>\n",
              "    <div class=\"colab-df-buttons\">\n",
              "\n",
              "  <div class=\"colab-df-container\">\n",
              "    <button class=\"colab-df-convert\" onclick=\"convertToInteractive('df-d0364051-d307-43cf-b652-6fcf8f31bd77')\"\n",
              "            title=\"Convert this dataframe to an interactive table.\"\n",
              "            style=\"display:none;\">\n",
              "\n",
              "  <svg xmlns=\"http://www.w3.org/2000/svg\" height=\"24px\" viewBox=\"0 -960 960 960\">\n",
              "    <path d=\"M120-120v-720h720v720H120Zm60-500h600v-160H180v160Zm220 220h160v-160H400v160Zm0 220h160v-160H400v160ZM180-400h160v-160H180v160Zm440 0h160v-160H620v160ZM180-180h160v-160H180v160Zm440 0h160v-160H620v160Z\"/>\n",
              "  </svg>\n",
              "    </button>\n",
              "\n",
              "  <style>\n",
              "    .colab-df-container {\n",
              "      display:flex;\n",
              "      gap: 12px;\n",
              "    }\n",
              "\n",
              "    .colab-df-convert {\n",
              "      background-color: #E8F0FE;\n",
              "      border: none;\n",
              "      border-radius: 50%;\n",
              "      cursor: pointer;\n",
              "      display: none;\n",
              "      fill: #1967D2;\n",
              "      height: 32px;\n",
              "      padding: 0 0 0 0;\n",
              "      width: 32px;\n",
              "    }\n",
              "\n",
              "    .colab-df-convert:hover {\n",
              "      background-color: #E2EBFA;\n",
              "      box-shadow: 0px 1px 2px rgba(60, 64, 67, 0.3), 0px 1px 3px 1px rgba(60, 64, 67, 0.15);\n",
              "      fill: #174EA6;\n",
              "    }\n",
              "\n",
              "    .colab-df-buttons div {\n",
              "      margin-bottom: 4px;\n",
              "    }\n",
              "\n",
              "    [theme=dark] .colab-df-convert {\n",
              "      background-color: #3B4455;\n",
              "      fill: #D2E3FC;\n",
              "    }\n",
              "\n",
              "    [theme=dark] .colab-df-convert:hover {\n",
              "      background-color: #434B5C;\n",
              "      box-shadow: 0px 1px 3px 1px rgba(0, 0, 0, 0.15);\n",
              "      filter: drop-shadow(0px 1px 2px rgba(0, 0, 0, 0.3));\n",
              "      fill: #FFFFFF;\n",
              "    }\n",
              "  </style>\n",
              "\n",
              "    <script>\n",
              "      const buttonEl =\n",
              "        document.querySelector('#df-d0364051-d307-43cf-b652-6fcf8f31bd77 button.colab-df-convert');\n",
              "      buttonEl.style.display =\n",
              "        google.colab.kernel.accessAllowed ? 'block' : 'none';\n",
              "\n",
              "      async function convertToInteractive(key) {\n",
              "        const element = document.querySelector('#df-d0364051-d307-43cf-b652-6fcf8f31bd77');\n",
              "        const dataTable =\n",
              "          await google.colab.kernel.invokeFunction('convertToInteractive',\n",
              "                                                    [key], {});\n",
              "        if (!dataTable) return;\n",
              "\n",
              "        const docLinkHtml = 'Like what you see? Visit the ' +\n",
              "          '<a target=\"_blank\" href=https://colab.research.google.com/notebooks/data_table.ipynb>data table notebook</a>'\n",
              "          + ' to learn more about interactive tables.';\n",
              "        element.innerHTML = '';\n",
              "        dataTable['output_type'] = 'display_data';\n",
              "        await google.colab.output.renderOutput(dataTable, element);\n",
              "        const docLink = document.createElement('div');\n",
              "        docLink.innerHTML = docLinkHtml;\n",
              "        element.appendChild(docLink);\n",
              "      }\n",
              "    </script>\n",
              "  </div>\n",
              "\n",
              "\n",
              "<div id=\"df-022bac50-9e16-4ae9-8694-3d1626bc1081\">\n",
              "  <button class=\"colab-df-quickchart\" onclick=\"quickchart('df-022bac50-9e16-4ae9-8694-3d1626bc1081')\"\n",
              "            title=\"Suggest charts\"\n",
              "            style=\"display:none;\">\n",
              "\n",
              "<svg xmlns=\"http://www.w3.org/2000/svg\" height=\"24px\"viewBox=\"0 0 24 24\"\n",
              "     width=\"24px\">\n",
              "    <g>\n",
              "        <path d=\"M19 3H5c-1.1 0-2 .9-2 2v14c0 1.1.9 2 2 2h14c1.1 0 2-.9 2-2V5c0-1.1-.9-2-2-2zM9 17H7v-7h2v7zm4 0h-2V7h2v10zm4 0h-2v-4h2v4z\"/>\n",
              "    </g>\n",
              "</svg>\n",
              "  </button>\n",
              "\n",
              "<style>\n",
              "  .colab-df-quickchart {\n",
              "      --bg-color: #E8F0FE;\n",
              "      --fill-color: #1967D2;\n",
              "      --hover-bg-color: #E2EBFA;\n",
              "      --hover-fill-color: #174EA6;\n",
              "      --disabled-fill-color: #AAA;\n",
              "      --disabled-bg-color: #DDD;\n",
              "  }\n",
              "\n",
              "  [theme=dark] .colab-df-quickchart {\n",
              "      --bg-color: #3B4455;\n",
              "      --fill-color: #D2E3FC;\n",
              "      --hover-bg-color: #434B5C;\n",
              "      --hover-fill-color: #FFFFFF;\n",
              "      --disabled-bg-color: #3B4455;\n",
              "      --disabled-fill-color: #666;\n",
              "  }\n",
              "\n",
              "  .colab-df-quickchart {\n",
              "    background-color: var(--bg-color);\n",
              "    border: none;\n",
              "    border-radius: 50%;\n",
              "    cursor: pointer;\n",
              "    display: none;\n",
              "    fill: var(--fill-color);\n",
              "    height: 32px;\n",
              "    padding: 0;\n",
              "    width: 32px;\n",
              "  }\n",
              "\n",
              "  .colab-df-quickchart:hover {\n",
              "    background-color: var(--hover-bg-color);\n",
              "    box-shadow: 0 1px 2px rgba(60, 64, 67, 0.3), 0 1px 3px 1px rgba(60, 64, 67, 0.15);\n",
              "    fill: var(--button-hover-fill-color);\n",
              "  }\n",
              "\n",
              "  .colab-df-quickchart-complete:disabled,\n",
              "  .colab-df-quickchart-complete:disabled:hover {\n",
              "    background-color: var(--disabled-bg-color);\n",
              "    fill: var(--disabled-fill-color);\n",
              "    box-shadow: none;\n",
              "  }\n",
              "\n",
              "  .colab-df-spinner {\n",
              "    border: 2px solid var(--fill-color);\n",
              "    border-color: transparent;\n",
              "    border-bottom-color: var(--fill-color);\n",
              "    animation:\n",
              "      spin 1s steps(1) infinite;\n",
              "  }\n",
              "\n",
              "  @keyframes spin {\n",
              "    0% {\n",
              "      border-color: transparent;\n",
              "      border-bottom-color: var(--fill-color);\n",
              "      border-left-color: var(--fill-color);\n",
              "    }\n",
              "    20% {\n",
              "      border-color: transparent;\n",
              "      border-left-color: var(--fill-color);\n",
              "      border-top-color: var(--fill-color);\n",
              "    }\n",
              "    30% {\n",
              "      border-color: transparent;\n",
              "      border-left-color: var(--fill-color);\n",
              "      border-top-color: var(--fill-color);\n",
              "      border-right-color: var(--fill-color);\n",
              "    }\n",
              "    40% {\n",
              "      border-color: transparent;\n",
              "      border-right-color: var(--fill-color);\n",
              "      border-top-color: var(--fill-color);\n",
              "    }\n",
              "    60% {\n",
              "      border-color: transparent;\n",
              "      border-right-color: var(--fill-color);\n",
              "    }\n",
              "    80% {\n",
              "      border-color: transparent;\n",
              "      border-right-color: var(--fill-color);\n",
              "      border-bottom-color: var(--fill-color);\n",
              "    }\n",
              "    90% {\n",
              "      border-color: transparent;\n",
              "      border-bottom-color: var(--fill-color);\n",
              "    }\n",
              "  }\n",
              "</style>\n",
              "\n",
              "  <script>\n",
              "    async function quickchart(key) {\n",
              "      const quickchartButtonEl =\n",
              "        document.querySelector('#' + key + ' button');\n",
              "      quickchartButtonEl.disabled = true;  // To prevent multiple clicks.\n",
              "      quickchartButtonEl.classList.add('colab-df-spinner');\n",
              "      try {\n",
              "        const charts = await google.colab.kernel.invokeFunction(\n",
              "            'suggestCharts', [key], {});\n",
              "      } catch (error) {\n",
              "        console.error('Error during call to suggestCharts:', error);\n",
              "      }\n",
              "      quickchartButtonEl.classList.remove('colab-df-spinner');\n",
              "      quickchartButtonEl.classList.add('colab-df-quickchart-complete');\n",
              "    }\n",
              "    (() => {\n",
              "      let quickchartButtonEl =\n",
              "        document.querySelector('#df-022bac50-9e16-4ae9-8694-3d1626bc1081 button');\n",
              "      quickchartButtonEl.style.display =\n",
              "        google.colab.kernel.accessAllowed ? 'block' : 'none';\n",
              "    })();\n",
              "  </script>\n",
              "</div>\n",
              "\n",
              "    </div>\n",
              "  </div>\n"
            ],
            "application/vnd.google.colaboratory.intrinsic+json": {
              "type": "dataframe",
              "variable_name": "data",
              "summary": "{\n  \"name\": \"data\",\n  \"rows\": 40000,\n  \"fields\": [\n    {\n      \"column\": \"tweet_id\",\n      \"properties\": {\n        \"dtype\": \"number\",\n        \"std\": 118857896,\n        \"min\": 1693956175,\n        \"max\": 1966441171,\n        \"num_unique_values\": 40000,\n        \"samples\": [\n          1752414968,\n          1965295852,\n          1696219218\n        ],\n        \"semantic_type\": \"\",\n        \"description\": \"\"\n      }\n    },\n    {\n      \"column\": \"sentiment\",\n      \"properties\": {\n        \"dtype\": \"category\",\n        \"num_unique_values\": 13,\n        \"samples\": [\n          \"relief\",\n          \"happiness\",\n          \"empty\"\n        ],\n        \"semantic_type\": \"\",\n        \"description\": \"\"\n      }\n    },\n    {\n      \"column\": \"content\",\n      \"properties\": {\n        \"dtype\": \"string\",\n        \"num_unique_values\": 39827,\n        \"samples\": [\n          \"the sun is shinning! im off out!!\",\n          \"wow i must have been tired. i fell asleep @ exactly the start of the 10pm news &amp; now up as if its 8am.\",\n          \"@knobzie their loss\"\n        ],\n        \"semantic_type\": \"\",\n        \"description\": \"\"\n      }\n    }\n  ]\n}"
            }
          },
          "metadata": {},
          "execution_count": 5
        }
      ]
    },
    {
      "cell_type": "markdown",
      "source": [
        "Getting the shape of dataset"
      ],
      "metadata": {
        "id": "IZw4cEyDlGFA"
      }
    },
    {
      "cell_type": "code",
      "source": [
        "data.shape"
      ],
      "metadata": {
        "colab": {
          "base_uri": "https://localhost:8080/"
        },
        "id": "xjE25YROk8-T",
        "outputId": "40782b0a-e28c-4d34-eace-50fc5f002977"
      },
      "execution_count": 6,
      "outputs": [
        {
          "output_type": "execute_result",
          "data": {
            "text/plain": [
              "(40000, 3)"
            ]
          },
          "metadata": {},
          "execution_count": 6
        }
      ]
    },
    {
      "cell_type": "markdown",
      "source": [
        "finding unique columns in target column"
      ],
      "metadata": {
        "id": "HzlnyQ2Amkli"
      }
    },
    {
      "cell_type": "code",
      "source": [
        "data['sentiment'].unique()"
      ],
      "metadata": {
        "colab": {
          "base_uri": "https://localhost:8080/"
        },
        "id": "LIMWIiS3lJK3",
        "outputId": "6a39d44a-b294-4e3c-d6f3-d8d449bbf8d5"
      },
      "execution_count": 7,
      "outputs": [
        {
          "output_type": "execute_result",
          "data": {
            "text/plain": [
              "array(['empty', 'sadness', 'enthusiasm', 'neutral', 'worry', 'surprise',\n",
              "       'love', 'fun', 'hate', 'happiness', 'boredom', 'relief', 'anger'],\n",
              "      dtype=object)"
            ]
          },
          "metadata": {},
          "execution_count": 7
        }
      ]
    },
    {
      "cell_type": "markdown",
      "source": [
        "Data Processing"
      ],
      "metadata": {
        "id": "rj8pgS68m8Bm"
      }
    },
    {
      "cell_type": "markdown",
      "source": [],
      "metadata": {
        "id": "h8mUA2P4pyUf"
      }
    },
    {
      "cell_type": "code",
      "source": [
        "#removing punctuations\n",
        "import string\n",
        "def remove_punctuations(text):\n",
        "  punc_free=''.join([i for i in text if i not in string.punctuation])\n",
        "  return punc_free"
      ],
      "metadata": {
        "id": "mQi9aQvzmtjQ"
      },
      "execution_count": 8,
      "outputs": []
    },
    {
      "cell_type": "code",
      "source": [
        "#tokenzing\n",
        "import nltk\n",
        "nltk.download('punkt')\n",
        "def tokenize(text):\n",
        "  words=nltk.word_tokenize(text)\n",
        "  return words"
      ],
      "metadata": {
        "colab": {
          "base_uri": "https://localhost:8080/"
        },
        "id": "X3JHOyJzlhnI",
        "outputId": "6b39ec50-34a0-4738-9677-6870bf1e1f4c"
      },
      "execution_count": 9,
      "outputs": [
        {
          "output_type": "stream",
          "name": "stderr",
          "text": [
            "[nltk_data] Downloading package punkt to /root/nltk_data...\n",
            "[nltk_data]   Package punkt is already up-to-date!\n"
          ]
        }
      ]
    },
    {
      "cell_type": "code",
      "source": [
        "#removing stopwords\n",
        "nltk.download('stopwords')\n",
        "sw=nltk.corpus.stopwords.words('english')\n",
        "def remove_sw(text):\n",
        "  output=[i for i in text if i not in sw]\n",
        "  return output"
      ],
      "metadata": {
        "colab": {
          "base_uri": "https://localhost:8080/"
        },
        "id": "ePm_Ef3lnIcE",
        "outputId": "a1507e29-7a65-4913-badb-9519f776312a"
      },
      "execution_count": 10,
      "outputs": [
        {
          "output_type": "stream",
          "name": "stderr",
          "text": [
            "[nltk_data] Downloading package stopwords to /root/nltk_data...\n",
            "[nltk_data]   Package stopwords is already up-to-date!\n"
          ]
        }
      ]
    },
    {
      "cell_type": "code",
      "source": [
        "#Lemmatizing\n",
        "from nltk.stem import WordNetLemmatizer\n",
        "nltk.download('wordnet')\n",
        "word_lem=WordNetLemmatizer()\n",
        "def lemm(text):\n",
        "  lemm_text=[word_lem.lemmatize(word) for word in  text]\n",
        "  return lemm_text"
      ],
      "metadata": {
        "colab": {
          "base_uri": "https://localhost:8080/"
        },
        "id": "YPlv_rWRnOnu",
        "outputId": "1b26afec-8ecd-44bb-aed4-dd2b8d59f324"
      },
      "execution_count": 11,
      "outputs": [
        {
          "output_type": "stream",
          "name": "stderr",
          "text": [
            "[nltk_data] Downloading package wordnet to /root/nltk_data...\n",
            "[nltk_data]   Package wordnet is already up-to-date!\n"
          ]
        }
      ]
    },
    {
      "cell_type": "code",
      "source": [
        "# calling function for cleaning the data\n",
        "def preprocess(df_col):\n",
        "  corpus=[]\n",
        "  for item in df_col:\n",
        "    new_item=remove_punctuations(item)\n",
        "    new_item=new_item.lower()\n",
        "    new_item=tokenize(new_item)\n",
        "    new_item=remove_sw(new_item)\n",
        "    new_item=lemm(new_item)\n",
        "    corpus.append(' '.join(str(x) for x in new_item))\n",
        "  return corpus"
      ],
      "metadata": {
        "id": "Sdjv58MhnVe5"
      },
      "execution_count": 12,
      "outputs": []
    },
    {
      "cell_type": "code",
      "source": [
        "corpus=preprocess(data['content'])"
      ],
      "metadata": {
        "id": "4Zbxg7zNnaJx"
      },
      "execution_count": 13,
      "outputs": []
    },
    {
      "cell_type": "markdown",
      "source": [
        "Viewing the cleaned corpus"
      ],
      "metadata": {
        "id": "mFyAWNLzqSUD"
      }
    },
    {
      "cell_type": "code",
      "source": [
        "corpus"
      ],
      "metadata": {
        "colab": {
          "base_uri": "https://localhost:8080/"
        },
        "id": "CjKmIeBZn_vE",
        "outputId": "281d83c9-41e4-4dbe-dae7-96684185e450"
      },
      "execution_count": 14,
      "outputs": [
        {
          "output_type": "execute_result",
          "data": {
            "text/plain": [
              "['tiffanylue know listenin bad habit earlier started freakin part',\n",
              " 'layin n bed headache ughhhhwaitin call',\n",
              " 'funeral ceremonygloomy friday',\n",
              " 'want hang friend soon',\n",
              " 'dannycastillo want trade someone houston ticket one',\n",
              " 'repinging ghostridah14 didnt go prom bc bf didnt like friend',\n",
              " 'sleep im thinking old friend want he married damn amp want 2 scandalous',\n",
              " 'hmmm httpwwwdjherocom',\n",
              " 'charviray charlene love miss',\n",
              " 'kelcouch im sorry least friday',\n",
              " 'cant fall asleep',\n",
              " 'choked retainer',\n",
              " 'ugh beat stupid song get next rude',\n",
              " 'brodyjenner u watch hill london u realise tourture week week late watch itonlinelol',\n",
              " 'got news',\n",
              " 'storm electricity gone',\n",
              " 'annarosekerr agreed',\n",
              " 'sleepy even late fail',\n",
              " 'perezhilton lady gaga tweeted impressed video leaking know',\n",
              " 'convinced always wanted signal give offdamn think lost another friend',\n",
              " 'raaaaaaek oh bad hope get better ive sleep issue lately',\n",
              " 'wondering im awake 7amwriting new songplotting evil secret plot muahahahaoh damn itnot secret anymore',\n",
              " 'topic map talk balisage markup conference 2009 program online httptrimml6z via bobdc topicmaps',\n",
              " 'ate something dont know keep telling thing food',\n",
              " 'tired think im definitely going get ear infection going bed quotearlyquot',\n",
              " 'way home n 2 deal w underage girl drinking gin da bus talking bout keggersdamn feel old',\n",
              " 'isaacmascote im sorry people rude isaac get manner know better lewd',\n",
              " 'damm server still need hit 80 koxpers pas',\n",
              " 'fudge bsd whole paper tired ugh hate school time sleep',\n",
              " 'hate cancer hate hate hate',\n",
              " 'annoying start typing computer middle night',\n",
              " 'cynthia123 cant sleep',\n",
              " 'missed bly bus',\n",
              " 'feel strong contraction want go httpplurkcompwxidk',\n",
              " 'socal stoked maybe tomorrow',\n",
              " 'screw davidbrussee 3 week',\n",
              " 'etherradio yeah feel funny cause havent slept enough woke mum cause singing shes impressed',\n",
              " 'need skott right',\n",
              " 'work afternoon',\n",
              " 'gabbyisactive aw would unfollow would would cry',\n",
              " 'mmm much better day far still quite early last day uds',\n",
              " 'davidarchie lt3 gon na first twitter cause amazing lol come canada would anything see perform',\n",
              " 'picked blackberry middle street crushed',\n",
              " 'feeling packing hitting sfo around time year think im missing something',\n",
              " 'creyes middle school elem high school remain open need credit graduate cali broken',\n",
              " 'bed time hope go school tomorrow though dont feel well right',\n",
              " 'onscrn ahh well hoping could learn stuff way work separate thing also',\n",
              " 'im problem photo twitter amfcant see face',\n",
              " 'jakeboyd oh noooo blow tire youre reaaaally going send batman smoke',\n",
              " 'wnna take bath',\n",
              " 'chocolate milk much better straw lack said straw',\n",
              " 'tired',\n",
              " 'djmicdamn hey yu lil fucker textd yu',\n",
              " 'mennard time diff ive wrapped day day stuff havent tweeting talk soonmust sleepup 6hrs',\n",
              " 'benballer way damn suck b ok',\n",
              " 'suck able take day work money take trip sad',\n",
              " 'bedsorta today good sara strep thought angelina shared water b4 told prob get',\n",
              " 'ramtops recession hotel restructuring account done add bit pressure short term well cope',\n",
              " 'lostluna got dibs sulu',\n",
              " 'maternitytees aww onward upwards yay still sad leave bet',\n",
              " 'itsgabbith haha poor aby still get sore',\n",
              " 'diesel yaris 70mpg sad available u thatd awesome',\n",
              " 'want buy great album unfortunately dont hav enuff fund quotlong time noisyquot',\n",
              " 'pokinatcha honestypain blech',\n",
              " 'ok passenger one alive theyre dead dont know til end cry',\n",
              " 'home alone much',\n",
              " 'davidcooklove ia much havent really happy cook choice single',\n",
              " 'vincew stefanyngo fell asleep beach didnt put enough sunscreen lol',\n",
              " 'think son might flu cause def cleaned stanky puke mess poor pumkpin',\n",
              " 'great see oin amp cynthia happy dinner great cute little place bad oin got sick afterwards',\n",
              " 'cant give jertronic bday nudge',\n",
              " 'woman transfer first impression sexualmaternal onto le threatening man weak',\n",
              " 'brother bloom wont opening weekend el paso ill buy brick enjoy watch brother bloom',\n",
              " 'say miss plurking httpplurkcompwxion',\n",
              " 'bitten blood cat way rabies bacterin seems 7 shot 2 month never wash cat home hate water',\n",
              " 'miss voobys',\n",
              " 'dancingmonk neither elp',\n",
              " 'havingmysay dude favorite sandwich place ever ummm take picture',\n",
              " 'sad shin ae got marriedand wasnt alex',\n",
              " 'shondarhimes sure tweet youre back news abuzz tr knight leaving quotconfirmedquot today muy triste',\n",
              " 'rachellock22 ohh thursday exam day wednesday',\n",
              " 'mix dentist appt afternoon rescheduled tomorrow 9am',\n",
              " 'gcrush nopantsdance thinking excited guy move realized sad see go',\n",
              " 'goooood mooorning people sun definitly spring first spring hail storm car dimple',\n",
              " 'artfuldodga love itsakey usb stick 4gb australia',\n",
              " 'fresh prince sleepy sleep nightly routine got ta go dmv early tmrw',\n",
              " 'dammit hulu desktop totally screwed ability talk particular port one dev server cant watch code',\n",
              " 'emmarler jealous mom talking taylorswift13 want see twittering making miss',\n",
              " 'cant sleepi keep thinking puppy played today',\n",
              " 'im suppposed sleep got much amp got one part song stuck head quotyour jerk iknowquot blaahh',\n",
              " 'lepetitagneau whats going sweetheart',\n",
              " 'freaking difficult get systemwide spellchecker shit id settle office suite one stupid unhelpful window',\n",
              " 'last one month due summer strawberry availble chennai market',\n",
              " 'willxxmobb work 6am got ta go bed soon',\n",
              " 'robertf3 correct adore plucked put arm cuz cryin better hahaha',\n",
              " 'sweeetnspicy hiii im ipodi cant fall asleep',\n",
              " 'dont wan na work 11830 tomorrow get paid',\n",
              " 'feel sad coz wasnt able play guy httpplurkcompwxiux',\n",
              " 'princecharming',\n",
              " 'cayogial wanted come bz summer sure anymore teacher life summer suck',\n",
              " 'first ever dropped call mobile call telstra le charged data even though data pack',\n",
              " 'mrgenius23 win sigh rakeem',\n",
              " 'oh time real',\n",
              " 'darn allergy dont like time year never used problem either',\n",
              " 'oh one minute late oh well',\n",
              " 'sovietstar damn suck',\n",
              " 'cayogial wanted come bz summer sure anymore teacher life summer suck',\n",
              " 'mileycyrus website gave virus opened window kept popping',\n",
              " 'ahh big scary bug flying around room',\n",
              " 'wish knew put throughshe stole heart never gave backand occasionally like like look',\n",
              " 'nasty cough cant sick huge weekend ahead',\n",
              " 'justamedicine stone cold crazy',\n",
              " 'im tired',\n",
              " 'shift time bbye biochem waaaaahhhhhh httpplurkcompwxizo',\n",
              " 'melbournegirl im sure some1 cum play im workin til midnight',\n",
              " 'thecreativeone second wish rained',\n",
              " 'neesabear early happy day birth case dont make tired therapy today n taking medicine misshu love ya',\n",
              " 'damn eric anyone else need hair played',\n",
              " 'im feel deflated ugh dog',\n",
              " 'allergy suck duck nut lt88gt',\n",
              " 'well almost good day guess retry tomorrow',\n",
              " 'iamyete waraku tasteless expensive portion little waraku',\n",
              " 'freepbx sound good appreciate suggestion week still offline time ask refund',\n",
              " 'poinktoinkdoink died wait magic jack read',\n",
              " 'britblackbird youstinkatrespondingtotexts',\n",
              " 'wonder karma point turned 000 httpplurkcompwxj54',\n",
              " 'need pack cali cali waittt thinking glass wine order celebrate weekend vaca still work 2morrow tho',\n",
              " 'miserable feel like im gona cry sux',\n",
              " 'megturney well ran beer left sure eta waiting waiting waiting bleh gon na long nite methinks',\n",
              " 'nose stud fell cant find look like ill head amsterdam today get new one',\n",
              " 'claire breakfastnt love show got office 5am radio',\n",
              " 'pat philly 2 love mmm cheesesteak miss boyfriend love vacation',\n",
              " 'sigh im going bed dont feel right anymore',\n",
              " 'focused tom much didnt see beloved barack oh must vote poor president 626 vote',\n",
              " 'jwillock epicentre wheelock place tourist',\n",
              " 'depressed watching think dance',\n",
              " 'cross cause im stuck twiddling thumb ugh',\n",
              " 'miss 16th',\n",
              " 'theharvardian know like said idea long take investigate stuff',\n",
              " 'cant sleep im sore move',\n",
              " 'lafloozita httptwitpiccom4phze awe miss baby',\n",
              " 'softtouchme answered never learned write french basic stuff',\n",
              " 'chocolate never say',\n",
              " 'achieving new appreciation xml build script really painful cumbersome',\n",
              " 'etherradio im awake ill nap afternoon',\n",
              " 'omfgiselle cant anything',\n",
              " 'still need another 6 hour sleep',\n",
              " 'im work',\n",
              " 'rip leonardo great mini fiddler crab',\n",
              " 'morning tweepleway early',\n",
              " 'last day working uni today sad time',\n",
              " 'nisforneemah thanks neemah im gon na soooo close izzy yet far',\n",
              " 'head hurt bad could scream',\n",
              " 'go im tired airmatras broken somewhere im even pain',\n",
              " 'new work wellness challenge going well committed check email 10 pm 6 failed first day twice',\n",
              " 'new blog post blog auto insuran found auto insurance policy expired careless meanw',\n",
              " 'bestfriends mia wat',\n",
              " 'oh meni really cant see facecmon guy',\n",
              " 'im showing age renewed tag last week went 20 got insurance renewal email today went 100 dont wan na old',\n",
              " 'sole supporter sole supporter',\n",
              " 'dont hate finish work there still 125 hour left work time',\n",
              " 'emilyyy16 urgh stop guy',\n",
              " 'still missing husband really want home',\n",
              " 'miss puppy',\n",
              " '2 day month left 400mb left onpeak downloads',\n",
              " 'idlethumbs didnt get memo look amazing',\n",
              " 'nzdeany ive given pizza kid would never let fav hot one',\n",
              " 'reading tabloid people livesthinking im gon na mine baby leaf',\n",
              " 'barbschaefer yearling pet home died sad whole family',\n",
              " 'fun sun hmmm hell cold',\n",
              " 'got giant splinter stuck underneath finger nail today muppetsit hurt got go first aid first time',\n",
              " 'heresmyhello92 hate change course fan life lt3 oh havent met rob something went horribly wrong',\n",
              " 'feeling sad reason httpplurkcompwxji3',\n",
              " 'well fuck new pain med odd warning actually applies cant take chan displeased',\n",
              " 'uploaded new blog painful story 80 year old man cried wanted die sad',\n",
              " 'juneyee dont think want detail',\n",
              " 'jackgraycnn hi mary poppins',\n",
              " 'jaychuck addicting kind curse night time everytime one feel like making music afterwards',\n",
              " 'last tweet didnt send bad phone',\n",
              " 'relly1 omg ur alive lol 2day gone sooo slow im going insane grrr anything tonight',\n",
              " 'headache im going bed goodnight',\n",
              " 'taxidermi watching parental control',\n",
              " 'jessijaejoplin get california vintage ahahah best dress want dont ebay',\n",
              " 'saw pic past thanksgiving sad grandma',\n",
              " 'jertronic wont let',\n",
              " 'took shift tomorrow dont really feel like working right',\n",
              " 'money phone',\n",
              " 'spent last night aampe er wife tangled wheel daughter amp hit deck dislocation amp fracture resulted',\n",
              " 'thelastdoctor 9 day im ready visit torchwood see theyve heard anything',\n",
              " 'bernmorley bris cant hear thunder',\n",
              " 'bec v fat food winner fat food weeknend ill beat',\n",
              " 'bad red devil disappointing say least',\n",
              " 'dream pretty pretty beach beach woke',\n",
              " 'xdjio 3ware 9650se fast enough 3x x25m ssd raid5 800mhz iop hpt might try adaptec 5405 12ghz',\n",
              " 'da heck garage man get ask',\n",
              " 'ate mandy please forgive really sorry dont wan na lose bff',\n",
              " 'melluffsyew umm yeah thats probably pretty good note self eeeeeewwwwwwww',\n",
              " 'plane ticket expensive',\n",
              " 'wendyisastar melluffsyew umm yeah thats probably pretty good note self eeeeeewwwwwwww',\n",
              " 'need job badly',\n",
              " 'alexandergwhite daaammmnnnnn wish',\n",
              " 'went di bella coffee roaster today asked job person needed speak holiday fb',\n",
              " 'yukihime played latter part voodoo village part coop lost usual partner',\n",
              " 'dymediva23 nite im n bored opposed almost sleep frm b 4',\n",
              " 'bad friend',\n",
              " 'rlcpbiatch happy birthdayyy hope awesome day didnt see next last night',\n",
              " 'sparkdawgmusic im shit right im vacation got workin',\n",
              " 'aiderushton ill oir',\n",
              " 'only1kcj guess go girlie im still gym work 630am',\n",
              " 'would wish severe migrains would stop doc prescription arent working',\n",
              " 'bobbyedner missed game',\n",
              " 'moggy99 internet last night er brill massive explosion end nearby gas work er standby',\n",
              " 'tiffalo cuz airline super lame',\n",
              " 'lenje still pity come lamb though',\n",
              " 'bloomsday16 im sorry hear optimist thing get better u',\n",
              " 'done painting bedroom furniture still table wait move uggh moving heat',\n",
              " 'im tiredand insomnia',\n",
              " 'juiceegapeach hungry fool ill probably never see krispy kreme enjoy closing',\n",
              " 'yelgiuqnayr airport didnt show tonight homo',\n",
              " 'hate bakersfield hate port let go home already want start vacation',\n",
              " 'mrrathbone',\n",
              " 'looking desktop twitter app actually let access url suggestion liked twittle linking',\n",
              " 'people house know close door',\n",
              " 'completing facebook quiz time morning especially friday morning',\n",
              " 'lizzziemonster amp jamiejamess soooo hungry',\n",
              " 'munchkinhugs dont like possibility left side brain hurting thing called vp shunt possible death',\n",
              " 'cancel wow',\n",
              " 'want make music profile dont money dont know write music dont know play instrument studio',\n",
              " 'fairyfroggie yeahim sad quotravenclawquot account love account bit',\n",
              " '115 hear helicopter flying house thats kind weird news headache back booooo',\n",
              " 'sugar oh always lt3',\n",
              " 'back school m suhanas last day ft ocu okay im playing altnoy',\n",
              " 'poll trying get work powerpoint avail',\n",
              " 'took math test today day test teacher say bring calculator luke confident teacher decided calcs',\n",
              " 'omg concert awesome madrigal gave chill almost every piecebrooks also called alumnus didnt get go',\n",
              " 'livestrongnj yeah terrible cockatoo hardest live emotional good thing found though',\n",
              " 'late nothin 2',\n",
              " 'think vog making sicker think feeling slightly achy',\n",
              " 'thetombert watching harper island lol vodka involved',\n",
              " 'homework sux big time math worst',\n",
              " 'nymo would better imo let play 3 song provided start quotget itquot black',\n",
              " '3wordsaftersex never started',\n",
              " 'sometimes wish thing could go back way beginning last summer',\n",
              " 'downloaded new twitterfon update thinking fixing typing problem new tweet didnt',\n",
              " 'tarng trudys burnetthe one north one go',\n",
              " 'kateisbored feel way guess matter always meme',\n",
              " 'cant 30 minute treadmill done 30 minute today already gon na 20 minute',\n",
              " 'im sooooooooooooo confused',\n",
              " 'friend like vaikonedumaran ltte didnt need enemy wrong advice wrong time led numerous death amp lost cause well',\n",
              " 'work day 7 7',\n",
              " 'chillin roomy cant wait zombie clwn cr gon na 68 week',\n",
              " 'looove guitar playing think sound magnificent better',\n",
              " 'superjerry refund retrieve account take like week hoping thief doesnt use hack permaban',\n",
              " 'mysticnz im cry lol',\n",
              " 'cute malay girl came seemy room rent sadly think guyfreind bit misleading disappointing lol',\n",
              " 'gurlstrange epicentre wheelock place 250 unit amp tourist starting today',\n",
              " 'hate new mt dew commercialthe one giant mosquitoit scare gross time',\n",
              " 'come knight well 4 hour',\n",
              " 'super keen drive home rain additional concentration required dont really wan na deal',\n",
              " 'foxxfiles aw u cant let secret',\n",
              " 'freshypanda im sorry dont think stick least compared used look like',\n",
              " 'transport church wont making im crushed oh well time assignment suppose throat really hurt',\n",
              " 'hate see pregnant woman smokinggg sooo irresponsible n selfish saaad ultimately baby one suffers',\n",
              " 'liesliesliesyou cant avoid lie practicallyeverything',\n",
              " 'twittascope rocking sock go away already',\n",
              " 'driving back home forgot piece cake vera',\n",
              " 'seemouserun tried jumping without trampoline like thud thud shouldnt eaten cookie httpmylocme1xiz',\n",
              " 'everytime send email coach feel need practice shitty ball lol',\n",
              " 'pissing letting follow ericka',\n",
              " 'going sleep peaceful wanted hear say good night didnt happen good night everyone',\n",
              " 'mum trying make feel ebtter stopping voting adn winning shortstack almost cried',\n",
              " 'koifusionpdx close tacosone spot late',\n",
              " 'mszrockstar umm bout emaint get 2 see da game see dey survived anotha game da series due notin lebron im guessin',\n",
              " 'thinking much im work',\n",
              " 'forgot live jonas brother facebook',\n",
              " 'havent seen muffin two whole day',\n",
              " 'yumifujii ill miss yall back give lesleyboudy regard',\n",
              " 'gap year going quick',\n",
              " 'admit im bit bummed wasnt friend walking today',\n",
              " 'jennyvokals girl blunt soooooooo thought right absolutly great day stressorscome home',\n",
              " 'twitter hacked',\n",
              " 'found mj mouse flat dj course none left size',\n",
              " 'passingcarss wont time buy need new binder pa',\n",
              " 'lanacaitlin hahaha well try ugly',\n",
              " '25man ulduar hard',\n",
              " 'jmoriarty dont even want know know vhemt dont go wed miss',\n",
              " 'ooochelcyooo thats awesome weekend cant go im moving sat lot fun though',\n",
              " 'night night twitter world still cant believe thomas thing tomorrow gunna funsad',\n",
              " 'princessoats happening',\n",
              " 'qitah oh hug',\n",
              " 'oxygen8705 bored talking someone theyre busy something else kinda bummer idk',\n",
              " 'xoshayzers knoww thing wont samee lt3',\n",
              " 'omgness 1118 pm need beup early set garage sale start 8am wish said 9am im beat',\n",
              " 'vinylvickxen kno doooo yall partyin',\n",
              " 'okay twitter suddenly changed respond message',\n",
              " 'ugh dad told read article kavya shivashankar spellin bee girland like',\n",
              " 'decided matter good hair look curly doesnt justify burn get curler hand covered suck',\n",
              " 'going sleep gon na fall asleep playing apps tmrw going suck',\n",
              " 'thabillcollecta yea got ta 730',\n",
              " 'hate bf beat da dog guess way teach pitt',\n",
              " 'sprained ankle like really badly tore stuff hurt birthday weekend',\n",
              " 'cant believe metal gear solid song stolen im disappointed httpbitlyykksu',\n",
              " 'think may broke toe bar tonightthanks drunk girl steppin',\n",
              " 'one sale done today work explored balcony big theater w coworkers fun day void chili fry tip',\n",
              " 'maczombierawr wish left 4 dead first id need something play',\n",
              " 'sillybabyjulie',\n",
              " 'digenis story reminds living portugal',\n",
              " 'jhicks youre diabetic dad amp might sure still allowed eat sugar throughout day',\n",
              " 'spilled beer leg wasted half beer home met cute girl good conversation',\n",
              " 'roommate tesstickle love ignore',\n",
              " 'superfiasco ill make nacho tomorrow better would made',\n",
              " 'mydailyroutine yeahhh ampdont judge pillow',\n",
              " 'scary lightning thunder im glad going sleep hope im late school tomorow haha',\n",
              " 'teeth head hurt',\n",
              " 'hate rob zombie movie amp smell weed vommmm',\n",
              " 'jcwentz math science strongest thinkdunno bout geography like 1 day study 12 year work',\n",
              " 'waiting line tryst',\n",
              " 'hope get job cuz need apartment im drunk amp miss lil punkin tehe',\n",
              " 'got home wanting read last chaper breaking dawn cause dont want beover',\n",
              " 'need held gnite',\n",
              " 'hanging sam billy veronica going school tomorrow take sam body shop dang car accident',\n",
              " 'arrested development sad',\n",
              " 'gigglesxo wicked time leaving come cant stay night',\n",
              " 'omg keep losing follower sad want 90 one daythats goal',\n",
              " 'feel deflated doggy',\n",
              " 'bloodrain wan na see hair hows everyone',\n",
              " 'empty trash mac one difficult thing ever done life 8000 picture gone',\n",
              " 'im contacting paw philippine find quottigerquot new owner im sad love dog soo much',\n",
              " 'got home wanting read last chaper breaking dawn cause dont want',\n",
              " 'aww pray arroyo family everyone',\n",
              " 'thebabsi there manual process taking 4ever outlook database pffff crappy msft product',\n",
              " 'fuuudge movie store closed',\n",
              " 'alo sad quiet empty tonight',\n",
              " 'meganmansyn hahahaha horrible others singing im sure could work wish could afford drum set',\n",
              " 'wuzzyangel never answered dm sent need info',\n",
              " 'trying get pilot first season friday night light oh gosh pas tissue',\n",
              " 'mona26 aw headed cancelled trip aussie',\n",
              " 'cystic lacrimal infectection eye face swollen hurt',\n",
              " 'jose3030 didnt think anyone caught',\n",
              " 'need sleeping im even tired',\n",
              " '0',\n",
              " 'oh nevermind think thing unsalvageable',\n",
              " 'lyin bed faaaaar early',\n",
              " 'sad christian lacroix file bankruptcy',\n",
              " 'dont feel good fuckkk',\n",
              " 'agree work double shift',\n",
              " 'look like ill never go zoo',\n",
              " 'djvinceadams ohh poor girl ill email relying october mr',\n",
              " 'medhurst play',\n",
              " 'moss1982 bad time',\n",
              " 'aarrgghh fuka hose leaked water new floating floor',\n",
              " 'go dreaded dmv tomorrow',\n",
              " 'duncm im bit ben thaied',\n",
              " 'english class working interactive oral',\n",
              " 'sharonhayes thank rec doesnt work',\n",
              " 'dmoneymania im sorry excited tomorrow night karaoke getting anything special bday',\n",
              " 'puppy gizmo h8s haha still growl always look back long pruple scar fingie',\n",
              " 'dont know ima work tomorrow wit body dis sore ugh',\n",
              " '711 wo',\n",
              " 'becjee yeah plus little far walk pinocchios sushi',\n",
              " 'im feeling pressure head always kick nasty headache im looking forward',\n",
              " 'taylor swift joe jonas looked really good together im kinda sad broke',\n",
              " 'im suppose turn sentence outline research paper within hour online neck hurt',\n",
              " 'lady across way miscarriage say prayer',\n",
              " 'god want sleep',\n",
              " 'ksutt11 ohhhh thunderstormsboo always make power go',\n",
              " 'feel deflated doggy',\n",
              " 'found book starting real paperbound journal tonight annoying zit lip make look like herpes',\n",
              " 'ratt rocked nashville toniteone thing sucked encore like 80 still fun show pearcy hott bad boy look',\n",
              " 'feeling bad got bad news mum',\n",
              " 'realblackwidow dun wan na',\n",
              " 'imjustlalayone damn girl im ya got ta let know get kit together amp got flyer next weekend iquotm',\n",
              " 'justinodom dbl booooooo sick flippin blow bahaha kno dont many friend either feel lame haha',\n",
              " 'brettyrocks thats thinking time gon na 1',\n",
              " 'peep still fun time got ta sleep tho work cool hot chick none cool missing',\n",
              " 'dont feel like working think tweet often',\n",
              " 'feel sick stomach idkk whyy',\n",
              " 'vinerinimic special sau probabil un alt weekend pierdut',\n",
              " 'counting hour lost sunshine weekend',\n",
              " 'justintevya dude saw sf pic look like mini excursion pretty kick as didnt see sun tho',\n",
              " 'home safely hungry',\n",
              " 'hellojodie um thrown jarewolfs van yesterday taken er',\n",
              " 'got final table butwent third dont think ill getting free seat',\n",
              " 'good morning work morning gutted lol nevermind',\n",
              " 'work morning friend get party upstupid bberry lite flashing red message',\n",
              " 'fb boring wan na sing right',\n",
              " 'judyrey link doesnt work',\n",
              " 'deedubau hahaha dont know anyone anything except power lol live bubble',\n",
              " 'humpalow um ya think cell dying',\n",
              " 'last day worksick bone',\n",
              " 'feel like im house arrest',\n",
              " 'love like wareasy begin hard endfiuuhh',\n",
              " 'heavenjones ur supposed bk tho',\n",
              " 'cosmiclagoon know shortage shell crab use beach due beach comber sad',\n",
              " 'oh nighty night',\n",
              " 'celldweller must new music wont sleep give u chapter 1 might die first though hurry',\n",
              " 'stupid tooooth hurt',\n",
              " 'neyoofficial love song quottogetherquot thats quothisquot song mewell think still',\n",
              " 'ready go school',\n",
              " 'turnitgrey computer broken broke laptop use phone ahh still cause fucked order',\n",
              " 'richardgable good isnt holiday chalet sight look v similar one going home today',\n",
              " 'sad economy heard another friend losing job sad reminder',\n",
              " 'jarekpastor im starting feel really panicky anxious something bad happened co seems like age',\n",
              " 'dog ran awayyy',\n",
              " 'allisone84 suck bad',\n",
              " 'im back top molar extracted swollen face numb toothache sinus pain',\n",
              " 'finished 8 hour texas life insurance ce tonight 22 hour go',\n",
              " 'anyone know good rap song need make rapfun cd idea helllllpppp',\n",
              " 'want go peru summer ahhhhhhh hopefully yesyesyes miss',\n",
              " 'exortabreedoll happen maid quit',\n",
              " 'im awake anybody else awake wish lived u since fun happens im asleep',\n",
              " 'charles power lol damn savemart lost power could buy beer',\n",
              " 'penguinj heehee love tired',\n",
              " 'mobile phone refuse charge either battery broken chargerrr booooo',\n",
              " 'kirsten613 oh wish would get sign something send let call meet something',\n",
              " 'kimberly625 hmmm thought u sleeping bad cant see video tomorrow night',\n",
              " 'morning everyone sorry going early last night bad news felt totally crap today new day',\n",
              " 'went beach started raining',\n",
              " 'wish parent put chinese school younger itll much easier get job',\n",
              " 'anthonylucas iainfunnell yeah physically moving apparently well reporting directly mr hayward',\n",
              " 'nayryelgiuq airport didnt show tonight homo',\n",
              " 'charloro jealous look like schindlers list toronto',\n",
              " 'want another tatt',\n",
              " 'avalonabsinthe come erock left bah',\n",
              " 'need make lot money tomorrow',\n",
              " 'joiskol room make sad',\n",
              " 'nearly fell asleep jolted bed massive panic attack im sure sleep',\n",
              " 'gay made 200 tonight',\n",
              " 'cocktailchic oh fck completely forgot thirsty thursday oh gaga suck',\n",
              " 'one people wrong world blame people great world living shit',\n",
              " 'mandyalwaysknws nope sleeping cuz live east coast',\n",
              " 'dravenreborn bet cool sr huh havent stopped sweating since noon dad packing',\n",
              " 'meljachin eww dislike',\n",
              " 'tactical mistake going city library buying milk knew ouch ouch ouch maybe good thing didnt try uni',\n",
              " 'decided 2 trans frm relaxed 2 natural hair wish whole head looked like root age instant gratification',\n",
              " 'suzydunkley sorry bout cat',\n",
              " 'need increase salary httpplurkcompwxluu',\n",
              " 'stomach feel like touching groundim full',\n",
              " 'pug woke incredible sleep',\n",
              " 'ddlovato cant wait hear new album im sure amazingplease replay love much',\n",
              " 'sooo much work little time',\n",
              " 'missed iron chef',\n",
              " 'thevowel d version suck',\n",
              " 'bad day',\n",
              " 'lilxamyx08 know ridiculous never got hang love chicago want go shopping trip sound like fun',\n",
              " 'hate net ayaw bumukas ng twitter httpplurkcompwxlxs',\n",
              " 'ugh internet',\n",
              " 'omg didnt tweet much today sadness',\n",
              " 'feeling giddy wan na go home',\n",
              " 'week wasnt without adam lambert performance',\n",
              " 'rockingjude link doesnt work',\n",
              " 'packing last day youth camp',\n",
              " 'gossip girl coming back chaceeeeeee',\n",
              " 'smh hiphop nursery rhyme',\n",
              " 'somebody please save polar bear',\n",
              " 'pandamayhem noooooooooooo look lot picture lol lol',\n",
              " 'crazyballerina really sleepy bored right word much work',\n",
              " 'come attention 16yo friend ive recently gained ton weight didnt know',\n",
              " 'guess im staying home tonightno movieing',\n",
              " 'went cd store search cd',\n",
              " 'buzzedition reminds weather month ago horrible hope well hug',\n",
              " 'miss mom quotmay angel lead inquot',\n",
              " 'there really android twitter app tweeties calibre',\n",
              " 'jacksonville beach walking cold as water work morning ily ltgt',\n",
              " 'taylord',\n",
              " 'chocolovere feel way every day',\n",
              " 'cant sleep suck one day sleep get go shopping mom ugh',\n",
              " 'crunchmonkey78 well got home till tmw 530p comcast right didnt miss',\n",
              " 'sleppytime really missing godfather right love wayne',\n",
              " 'headache right suck',\n",
              " 'jaydz hope ya sleepin well guy still',\n",
              " 'finished im color drawing come',\n",
              " 'jwray12 lakers baby lakers ill miss game tmwr work youll keep posted please',\n",
              " 'comfort food day pan mee though didnt taste good',\n",
              " 'damn drunk hot suck',\n",
              " 'miss baby',\n",
              " 'sleeping paperwork',\n",
              " 'showered icecold water sweating mean one thing im sick',\n",
              " 'midnight cry wish person wanted wanted right',\n",
              " 'mousebudden ima need follow real quick cause cant dm',\n",
              " 'im poorly cant sleep',\n",
              " 'went pole class feeling discouraged hopeless cone dancing sexy move spreading leg',\n",
              " 'roasterboy poor unfortunate soul dont appear pant httpblipfm78qvz',\n",
              " 'damohopo stephanieellen told often wash hair would never speak',\n",
              " 'look like another sleepless night dedicated homework sorry advance m chapman',\n",
              " 'jessicaduncan httptwitpiccom662vk u lot mock',\n",
              " 'didnt say goodnight',\n",
              " 'abguerraartist pussy damnit sending email right btw',\n",
              " 'work tom',\n",
              " 'hongkong international airport wait 34 hour next flight cebu',\n",
              " 'cant sleep nothing tv',\n",
              " 'pic uploaded baby pic cat missy adult pretty little kitty batty kitten heaven',\n",
              " 'kalliet oh youve superseeded good enough',\n",
              " 'today say goodbye second good friend week dmp least sun shinning im definately working pm',\n",
              " 'fuckinm transtelecom',\n",
              " 'really really bored guess go bed',\n",
              " 'syoofthedead met stranger 10 min ago stalking store',\n",
              " 'modeltheany tee beefinwhat u supposed leavin',\n",
              " 'sometimes thing say hurt one love unintentionally never ever take back fix',\n",
              " 'nickkk suck',\n",
              " 'dorkydeanna iiii know mean',\n",
              " 'fever dont feel work',\n",
              " 'taking horse pill hoping get sleep tonight',\n",
              " 'busygod pgpm student pgpm student 4 year back wish could stay one',\n",
              " 'missing meldibiase6 day cant pas quick enough',\n",
              " 'juliaiiivir hey thats school hate place',\n",
              " 'working home today back killing doctor physio later today',\n",
              " 'back work distraction',\n",
              " 'ddlovato demi say hi enough replay please love much',\n",
              " 'awwww never noticed httpbitlyrconp',\n",
              " 'heavyharts suck well state start tomorrow im headin 2 bed nitey nite',\n",
              " 'look like going nice work today annoying choice',\n",
              " 'mygoldmask guy keep set list forgot ask one xx',\n",
              " 'first impression silverlight sadly based saw today quite problematic',\n",
              " 'desperatly hoping dad take vanessa game',\n",
              " 'pbandjay hi fuck job',\n",
              " 'missing deeply',\n",
              " 'time go bed get go work',\n",
              " 'mrssunshine96 big vanessa going 3 september going fast hard cuz im workin much miss alot',\n",
              " 'ravel sniff sniff take care ravel hopefully well chatting soon mean time ill hella miss',\n",
              " 'misscheryl lucky want teleport',\n",
              " 'somebody please save polar bear',\n",
              " 'nose runny head pounding teeth hurt like bitch man feel awful',\n",
              " 'dont want leave',\n",
              " 'headin homerefreshed mind soul justa lil bitbac reality',\n",
              " 'good lord seen agency work upcoming open day money jam',\n",
              " 'wut',\n",
              " 'working fridaaaayyyyy',\n",
              " 'grove drag hell hope doesnt suck',\n",
              " 'nolaevol feel like shit saying happy belated birfdayy im month late',\n",
              " 'kaliyahpjones lmaothats sad kinda discourages 4rom goin shit wack',\n",
              " 'got home work 945 finished cleaning need eat dinner dont know want ughoh well might eat',\n",
              " 'willynorthpole wish',\n",
              " 'miss little batty 3 month old got sick always fun full life lt3 even end',\n",
              " 'fc finally time hate keep happening',\n",
              " 'seriously bored without anyone talk tired enough sleep',\n",
              " 'morning hate morning offensive',\n",
              " 'keytar still give computer break omg',\n",
              " 'bed bed bed samuelasanders never answer text anymore thought day sent one never heard back sad day',\n",
              " 'u',\n",
              " 'brianshead waah longer peep',\n",
              " 'angelicayo lol wow dawg doesnt sound like youre playing feel bad haha',\n",
              " 'extremly deep',\n",
              " 'little foster kitten getting bigchubba winston going 2 b missed get amazing home',\n",
              " 'one week till exam block',\n",
              " 'foreveryours13 im home cat right',\n",
              " 'hoping didnt fail english would sad',\n",
              " 'know would great shoulder stop hurting sleep normal wantneed solid hour good sleep',\n",
              " 'lenos last show tonight like better conan',\n",
              " 'mariuslt im sorry bad driving experience',\n",
              " 'monpio dont',\n",
              " 'already miss cmontecillo',\n",
              " 'plan may change nooooooo',\n",
              " 'sister douchebag',\n",
              " 'fiercebanana there relisting fee dont complete sale suck',\n",
              " 'echeers random',\n",
              " 'knew shouldve worn sars mask plane socal feeling beginning sore throat',\n",
              " 'gutted bathroom still isnt free early work isnt going happen need loo',\n",
              " 'ddlovato july long',\n",
              " 'laurelexmachina awww wish could im stuck jab eye knitting needle',\n",
              " 'astynes wonder mnet show',\n",
              " 'wearing glass give headache',\n",
              " 'calvinharris stop talkin food haha fill like sum nw hha hows day goin starting',\n",
              " 'finished sewing night uploading picture slidebar beach cant believe difficulty twitter',\n",
              " 'thank ddlovato cant wait ummm btw ima crash still sick',\n",
              " 'first work computer home laptop fucked',\n",
              " 'liesgirlstell guy call phone see number real ohh phone isnt working try tomorrow',\n",
              " 'beer friday melbourne cbd mtub mini cmon thirsty lonely bugger making feel like scotty mate',\n",
              " 'debbylovespr know came back 22 1st lose lead last 6 minute',\n",
              " 'gosh summer vacation almost philippine kinda sad wonder section',\n",
              " 'shanajaca feltbeats page 6 m twitterworld 26 vote',\n",
              " 'im bummed cant wear sweet nike kick work',\n",
              " 'pickleybaby twitter broken',\n",
              " 'sleepgood night tweeties oc tomorrow hope pray rachyl get better soon',\n",
              " 'joek949 depressing im stuck inside day',\n",
              " 'rachelasha even saw news feed archie website cant believe hed choose veronica im disappointed',\n",
              " 'hate sick miss cynthiasheree lucyowns larilync',\n",
              " 'iceweasel im eating slider barjohnnys theyre pork tho beef still search',\n",
              " 'getting ready school second math test today also last day 3rd year next week officially 4th year',\n",
              " 'woke upi wan na stay bed',\n",
              " 'depressed wasnt included morcom garden quiz facebook',\n",
              " 'dravenreborn yeah still totally high 60 soooo notlooking forward aug sept',\n",
              " 'upsidedown tomato plant died',\n",
              " 'deep priecing soul',\n",
              " 'ashleypratt oh come get next week get next week full exam',\n",
              " 'friday last much fun skint though',\n",
              " 'vocabulary know dont tell anyone dont know dad told famz yet think im taking online',\n",
              " 'ddlovato caant iht earlier icant wait long ahar',\n",
              " 'friday yay bonus dont drive wale tonight athough miss kitten cuddle going ride',\n",
              " 'child promised birthday brekkie bed there problem there bugger food house',\n",
              " 'rderozario woops realized dm going',\n",
              " 'dont think able get bed tomorrow morning seeeee',\n",
              " 'cant use blackberry today suck',\n",
              " 'q studio created open season google look dvd downstairs feeling lazy',\n",
              " 'time changing',\n",
              " 'prncsztalia hate',\n",
              " 'time tv bedthen spending day catching studying hate online summer class',\n",
              " 'slickiris video available u foreigner',\n",
              " 'httptwitpiccom663vr wanted visit animal late',\n",
              " 'prime8507 pc agree problem must stop spending work',\n",
              " 'jonaswebcast missed',\n",
              " 'dang really look like crap sigh 35mins shower 10mins get ready',\n",
              " 'waiting get picked',\n",
              " 'exhaustedcant sleep dont like night',\n",
              " 'im gon na miss live comet action tomorrow go take care cousin dont access interwebz',\n",
              " 'lol cant drink',\n",
              " 'bill compton wii cant twitter',\n",
              " 'nothinbutsin sorry hear',\n",
              " 'morning sport day today threelegged race weefeetfrankie mr pettigrew said im aloud trip',\n",
              " 'found cant drink bar booo missing e1 palomino cheer sad face',\n",
              " 'sleep 2 hour tossing turning',\n",
              " 'omg going die swine flu go melbourne',\n",
              " 'packing dont like',\n",
              " 'gigglesxo dang certain okay',\n",
              " 'wish dave gilmour roger water would reunite pink floyd concert',\n",
              " 'finished whole box ice cream',\n",
              " '1 horse town 2 blown car speaker',\n",
              " 'someone make cofffeeeeeee',\n",
              " 'crispynoodles plus deposited tax return cheque first time 7 year didnt clear immediately',\n",
              " 'photo martwo omg love accadentally deleted photo yay he beautiful httptumblrcomxvd1wankt',\n",
              " 'ashleighryder knooww amp hot water bottle i whangamata without ahhhhh',\n",
              " 'nose stuffy',\n",
              " 'last night newport',\n",
              " 'charlieboy808 thanks rt sorry new place domestic',\n",
              " 'ok shoe club cool fun poppin except 4 ppl tryna dance wit',\n",
              " 'holy crap raining la dont jacket oh',\n",
              " 'aright twitter fam guess ima outties gon na try n sleep horrible pain',\n",
              " 'baby recieving vaccine',\n",
              " 'wish could attend e3 year small event like nba stanley cup final keep getting way work work work',\n",
              " 'o0hemmy lol hi emmy latin would help study aptitude test get grad school thats wan na take',\n",
              " 'chrisontv88 btw wimp',\n",
              " 'kaseypoteet lol yeah yeah big perv hoping see next week scrapped plan',\n",
              " 'rejecting food substance',\n",
              " 'bigyahu trying interview dr paul twomey ceo icann phone issue cut interview 30 min 15',\n",
              " 'queenbmakeup cant add myspace girly asks last name email',\n",
              " 'back vienna sooo tired luggage lost manchester great good outcome seminar mb amp great people around',\n",
              " 'meghanwong dont think take needle watched horribly gory short film drug month ago im scarred life',\n",
              " 'dont wan na go back work sleepy time',\n",
              " 'jprestonian feel good',\n",
              " 'watching biggest loser hallmark never fails make cry nyeh',\n",
              " 'zaharh suck old actually',\n",
              " 'thinking getting work',\n",
              " 'still confuse',\n",
              " 'naughty girl tonight dissappointed',\n",
              " 'rbuerckner thats better missy 8 telling biggest loser',\n",
              " 'httpbitly3w9w1 noooo go orlando omg im gon na cry',\n",
              " 'mycakesrock aaaaaahhhhhhhh soooooooo sweeeeeeet miss age soooo much',\n",
              " 'saw fox getting freeway hope go home',\n",
              " 'scratch sleep stage bound',\n",
              " 'recapping britain got talent britain seems talented america',\n",
              " 'officialtila cnt get goin ur old message gtgtgtgt helpltltltlt',\n",
              " 'good time rocking open mic thanks 4 love n support working business plan presentation cg 2nite',\n",
              " 'laurelexmachina swimming go',\n",
              " 'johnpopham morning john yes however diary clash sadly cant attend',\n",
              " 'miss friend',\n",
              " 'duciaestherine ohh ic ic haha iyaa summer filled one course last whole summer',\n",
              " 'yea saw really sad commercial',\n",
              " 'hmmm using tinytwitter small nontouch screen really much fun',\n",
              " 'plantweb lettuce amp spinach best cool weather live floridanot much luck growing',\n",
              " 'joshuahpearson',\n",
              " 'ikramshahnawaz oh love em think kind preservative theyre using stay quotjustbakedquot kinda make sick',\n",
              " 'ccburns unfortunately',\n",
              " 'elephantgravy new lens isnt working worked bit give fee error',\n",
              " 'hate sleep alone',\n",
              " 'emlevins',\n",
              " 'need new phone',\n",
              " 'back school almost weekend oh wait got ta work eight four tonight',\n",
              " 'loved johnny carson im going hate seeing jay leno go',\n",
              " 'even though everyone wanted newish song teacher agreed old grumpy doesnt like u happy haha',\n",
              " 'english essay rampjwtf done long time ago assigned last thursday',\n",
              " 'tifftiffmarie think much',\n",
              " 'razitul ya suffering whole day yesterday met dentist feel bit better still look like rocky balboa though',\n",
              " 'gqbound didnt end really eating snack sigh',\n",
              " 'finallythe internet server phoenix fucked',\n",
              " 'ups ketauan cabut nih gimana dong',\n",
              " 'harishk krist0ph3r saurabh sorry guy drop trip personal commitment',\n",
              " 'didnt get callback play cried oh well guess back techie',\n",
              " 'uniquemakis awesome wish could fly see',\n",
              " 'lunafactor kinda wish went cant fall asleep',\n",
              " 'nawid nope het lostampfound',\n",
              " 'rocky cola diner whittier tonight teacher pal mr b great time chatting one else came',\n",
              " 'bed still exhausted vega',\n",
              " 'heresmyhello92 lol true maybe next year loooved siggy dont remember password mod thing cake',\n",
              " 'ummm sooo yehits really hard concentrate rite wen weird lupus feeling goin thro body',\n",
              " 'charleyboorman httptwitpiccom65623 ouch look painful',\n",
              " 'took 4 hour nap work today wont able sleep night bummer',\n",
              " 'jetwolf know enjoy watching two twitter entertaining comic miss',\n",
              " 'loving lil ken absolutely dreading saying goodbye le week',\n",
              " 'dakshinamurti yet sorry',\n",
              " 'want sit back amp relax little difficult',\n",
              " 'zhenerak thought best friend',\n",
              " 'hii thatsï¿½mee woke going school',\n",
              " 'fall asleep know feel lol drag hell tonight quite excited',\n",
              " 'god cant even catch public transport swine flu shit house',\n",
              " 'dad said trip uk cancelled due da swine flu ooops sorry abang',\n",
              " 'asks karma point please httpplurkcompwxnt9',\n",
              " 'hahaha alright',\n",
              " 'guitar21g jackiehussein wake earlier thought dad want take food 9am no0o0o0o',\n",
              " 'someone take la need see lemon tree',\n",
              " 'um dont think text msg quotsubject linequot fail',\n",
              " 'tummy ache',\n",
              " 'math quiz meow allergy meow allergy',\n",
              " 'want see friend httpplurkcompwxnwa',\n",
              " 'goddessfleur youre far away dont know',\n",
              " 'la said quotwipe slate cleanquot jelly',\n",
              " 'hiracdelest who one always working oh yeah still',\n",
              " 'seanpercival unless invite come beta key im going much help',\n",
              " 'johnnyexp live',\n",
              " 'askegg im sorry andrew wish something could',\n",
              " 'finsh work eleven even allowd cauz really dont want lol',\n",
              " 'anybody im sooo bored',\n",
              " 'amandamallard im chasetons either please dont die heart really sad',\n",
              " 'interesting show say least recap tomorrow first must sleep work',\n",
              " 'omgjoker feel like hot box matter go still feel like hot box ice cream isnt working n e',\n",
              " 'sad please get better grandma',\n",
              " 'aannniieee uuuugh hate everything',\n",
              " 'gosh today weather horriterrible extreme hotness im losing lot water weight nothing httptweetsg',\n",
              " 'taking moment reflecti want annonymity backfb safe say anything someone else another friend',\n",
              " 'pastorpeterko hey peter thanks follow many sydney pastor tweet shame bris pastor twitter behind',\n",
              " 'shadaasshole ï¿½ cant im sister house ï¿½net tonite',\n",
              " 'damn hi facebook whats wrong cant add photo',\n",
              " 'aku kbangun gara2 mimpi manyolitha bad dream',\n",
              " '4 follower follow ill love pout please',\n",
              " 'alyssainescruz aww annoying',\n",
              " 'textdrivebys dont even wii b like xbox thats use',\n",
              " 'cant sleep darn frustrating',\n",
              " 'thunderexpress didnt get see tonight',\n",
              " 'bff rocking hotel california nkotb song done stay whats next hmmm careless whisper',\n",
              " 'stormyamorette one day loneliness creep slap face',\n",
              " 'rip kelly fucccccck',\n",
              " 'rockedbypickler well dont vacation let go',\n",
              " 'think im ignoredby best friend jakea hate ignored b know thing go',\n",
              " 'annaviola love way didnt end time go week im sooooo sorry next week sure',\n",
              " '2nd last episode jay leno itll never nite twitter',\n",
              " 'feeling good',\n",
              " 'ok time nodd gon na long day tomorrow saying goodbye car good',\n",
              " 'fakin kishajust luck',\n",
              " 'taking nap workno sleep right nap felt soooo good seems like bad idea',\n",
              " 'going home ive seriously enough',\n",
              " 'counting minute dad gfriend leaving',\n",
              " 'miss oklahomaaaaa listening citizen cope til pas',\n",
              " 'tenseso emotionalso',\n",
              " 'leopardqueen seekinspiration fun miss guy lot',\n",
              " 'skyduke478 make sad',\n",
              " 'playing game watching straight people hook cant leave another reason',\n",
              " 'daveg38 yeah work today never mind one day sun sun sun',\n",
              " 'feel like im going cough lung',\n",
              " 'funny im kinda sad last day',\n",
              " 'heresmyhello92 dont think either cant remember',\n",
              " 'anyone got jbs live chat vid school saw joe hug tackle nick lol',\n",
              " 'jenny fell asleep didnt come',\n",
              " 'thedailysurvey love',\n",
              " 'wish teased movie night',\n",
              " 'lost 4 follower night nobody like',\n",
              " 'johneast ive missed one year forbidden fruit tree garden munch disappointment one',\n",
              " 'want new phone ive seen much cellphone commercial',\n",
              " 'anime81 im soo sad edge page gon na come cry',\n",
              " 'time really need shut im going sleep head ache badly really cant take',\n",
              " 'ivanae love knw gna cut stuff tv',\n",
              " 'soonseeofpred becuz braggin',\n",
              " 'joannaangel im strict diet ugh feel like cheat one day ill throw everything',\n",
              " 'oh hub sick hope dont catch',\n",
              " 'lawikyn ze franz friended think think im creepy stalker sommat hmph',\n",
              " 'taking back horrible shoe mum made get urgggh nasty footwear problem cant find shoe',\n",
              " 'ran money r sad panda',\n",
              " 'find today first kiss',\n",
              " 'cal dachshund rescue found home foster pup max im soooooo sad see leave',\n",
              " 'wow feel like ish really feel bad ignorent aholes wont overturn prop 8',\n",
              " 'work finish 9pm booooo',\n",
              " 'wish hadnt teased movie night',\n",
              " 'ritikakar httpbitly179jxs got ta wiat till next week btwyou mumbai',\n",
              " 'dont know tired today bye time beddy',\n",
              " 'intentando intentarlo',\n",
              " 'maybe take drinking feel massive hangover still yself today',\n",
              " 'really bad head ache gon na go bed might back maybe bye bye',\n",
              " 'friend traveller tale held farewell party kinda disappointed would still sep fault',\n",
              " 'night 5 talking victor im bored night grrrr hate shit',\n",
              " 'going die tomorrow night emilazy',\n",
              " 'syafique ooh maggi goreng yums cant eat sore throat cmin',\n",
              " 'gon na get try catch z high school tomorrow really suck wish didnt grow',\n",
              " 'curligirl morning hon breakfast cant decide',\n",
              " 'sleeping lost voice couple day ago',\n",
              " 'mention bf bubbled wsop employee event 12 hr aa working double next 6 week',\n",
              " 'sleepy earlier didnt get see matt',\n",
              " 'big day 2day xt launch amazing much free stuff thanx 2 edge telecom found phone wantcnt afford yet tho',\n",
              " 'bethbabe4 oh yeah im poorest person shouldnt joke poor people',\n",
              " 'realized spelled quotadorablequot wrong tweeted mindykaling must hate',\n",
              " 'delloutletuk gone',\n",
              " 'janesasmommy oh well hope get better',\n",
              " 'jordskkk crew please dont dont think could wrong number time',\n",
              " 'glowing face complexion always pale',\n",
              " 'downloadfestivals lineup isnt good thought awesome band festival missing dl',\n",
              " 'havent watched gossip girl ageeees need one tree hill season 3 god im slow',\n",
              " 'colstewart youre cycling tho thats good healthy eating healthy eating contradiction term',\n",
              " 'soooim kinda sick n tired b guy dish',\n",
              " 'daveockun hate fleetwood favorite bandim jealous ok still love haha',\n",
              " 'wish carlton game live stupid channel 7 lol',\n",
              " 'early tomorrow heading bed keep saying im going take midday nap hasnt happened week yet',\n",
              " 'ups ketauan cabut sama gemamalove chikachilo nih',\n",
              " 'say morning everyone work 10 min httpplurkcompwxom8',\n",
              " 'bt gamer like 2 year made attempt lol yea luvd f1 extent yellowshirts',\n",
              " '4pm friday left 6am thursday surely',\n",
              " 'imjustlalayone im sorry ya got ta let know ive booked week',\n",
              " 'sashairene hahaha oh man please come pomona would love see everyday instead like year',\n",
              " 'letsgeticecream miss come michigan like nowi cant wait till july',\n",
              " 'talentdmrripley maybe good night sleep everyone',\n",
              " 'farrrrr pdhpe assignment due next week english homework',\n",
              " 'forgot access card carï¿½too lazy fetch',\n",
              " 'erica yea tough keep going sometimes im sure worth',\n",
              " 'briannabanshee dissapointment hhaha',\n",
              " '4evaafanofpaula hun okay see alot post exercising like madnot eating sleeping',\n",
              " 'oh tweetdeck malfunctioning il web fixd',\n",
              " 'electrax im sorry still sick u know know u guess quotpelzer presentquot',\n",
              " 'maliciousmandy1 adam samberg new moon trailor good evening bad cable friday',\n",
              " 'carrotmadman6 happened im afraid missed large part story',\n",
              " 'work 545am',\n",
              " 'anthothemantho hell yes im late',\n",
              " 'dell fx100 pcoverip audio device teradici giving hard time linux ubuntu jaunty kernel isnt loading sndhdaintel drv',\n",
              " 'got as kicked tripoly lol got bad card suck',\n",
              " 'creeped ice cream social good time lars real girl sad movie',\n",
              " 'sooo hot hufff',\n",
              " 'closeness distance closeness everything seems distant',\n",
              " 'annnnnnddd another one bite dust',\n",
              " 'ahhhhh quotlet right one inquot dvd broke',\n",
              " 'drewseeley hey loved ac see online yet cant wait buy look amazing',\n",
              " 'hisheidi thought dwell certain person',\n",
              " 'fml work uniform washing line',\n",
              " 'ohh shit realized still talking b like dat time',\n",
              " '42nd written fuck get le idea every day every day',\n",
              " 'melissalynnette naw doesnt match lol shenanigan discus thing',\n",
              " 'mayora part unfortunately',\n",
              " 'soverpeck dude didnt know personal experience sorry something like went',\n",
              " 'alay aww well randomly woke cant sleep many thing mind',\n",
              " 'donperignon baby miss',\n",
              " 'ddlovato since obviously living alaska radio station get',\n",
              " 'murdered two fucking mouse cant sleep',\n",
              " 'oh no hey whats tatoo say',\n",
              " 'astynes dont vcr',\n",
              " 'hammett wish could time xbox project tied',\n",
              " 'pancake always end soggy',\n",
              " '4 big zongzi lunch ate work morework le eat wh useless become',\n",
              " 'sososo bummed like really bummed hate rain ruin date',\n",
              " 'working late night dell notebook dell quality gone hill warrenty service suck poor people buy mac instead',\n",
              " 'wow hurt way worse thought would',\n",
              " 'none thought make sense im sober',\n",
              " 'msakatainment know right hopefully something come though',\n",
              " 'cant sleep tomorrow must wake early',\n",
              " 'justdes body already developed mind mind refuse cooperate set schedule',\n",
              " 'claudiuvoicu supposed back sun via private jet btwo mite hav stay bymyself thnk god another week amp want bruno',\n",
              " 'trash repops getting tomorrow night suppose',\n",
              " 'nursing bruise motorbike crash wednesday night leaving london workplace ground much harder older get',\n",
              " 'bored headache',\n",
              " 'huge headachegoodnight',\n",
              " 'feel like crap whenever lay 1 hate heartburn amp backache',\n",
              " 'katiefreeze miss lonely empty without httpyfrogcom3o3zxoj',\n",
              " 'lozzyx noice realised exam 2 week forgot whole 2 week unit 4 term 2 thing',\n",
              " 'justwatched like 5 straight episode escaped id discovery channel guy imprisoned 6 woman killed 2 cooked',\n",
              " 'missing everyone',\n",
              " 'gone bed age ago damn tedtalks got ta get early',\n",
              " '02 give 3 point',\n",
              " 'calvinharris make pork product theyve fucking stopped importing dubai bad time',\n",
              " 'another build failed something right big scheme thing',\n",
              " 'wife took last ï¿½20 mcdonalds breakfast today',\n",
              " 'wish going love sound',\n",
              " 'sisser moving tomorrow make sad actually guess technically couple hour since already friday',\n",
              " 'keep falling asleep im suppose awake miss babyy',\n",
              " 'ryanhalloran',\n",
              " 'way nottinghami dont want going',\n",
              " 'churchill down tomorrow',\n",
              " 'chicago isnt ride calling back',\n",
              " 'k goodnight got ta chuck e cheese tomorrow following kindergarten shot physical bla',\n",
              " 'need wake earlier im actually tired enough fall asleep',\n",
              " 'bahh police ended party 5 starting',\n",
              " 'ive got catch bus work',\n",
              " 'wired sad',\n",
              " 'jordalynn omg youve never seen ring creppy as movie',\n",
              " 'mannnn alllyy got iphone im jealous',\n",
              " 'kirstiealley funny u havent showed love yet',\n",
              " 'pegbanditkitty absolutely nothin',\n",
              " 'annettestatus luv ur admitting niley kiss change mind haha amp demisterling jemi still cute',\n",
              " 'ecctv make feel better lost 10 overnight cause posted picture baby',\n",
              " 'still sick sigh',\n",
              " 'bethbabe4 oh poor beth friend im naughty im unperfect',\n",
              " 'josh called big bucket ugly wish luck audition tweet',\n",
              " 'feel really weird',\n",
              " 'futureperfect im trying self learn photoshop going well',\n",
              " 'brianlimond ever seen tv show dead like died became grim reaper taking people soul accident',\n",
              " 'scummboy im sorry im thinking hope week get better',\n",
              " 'steam punlk fashion show anime north first year since torcon arent back til anticipationsf amp missed',\n",
              " 'throat hurt gon na go read go bed text mee',\n",
              " 'dying hangout friday afternoon',\n",
              " 'eh cold',\n",
              " 'mannnn alllyy got iphone im jealous httpbitlyngnar',\n",
              " 'fjdskal im really frustrated',\n",
              " 'regentlord aww shouldve youtubed',\n",
              " 'wondering come mcdonalds take long deliver food',\n",
              " 'desdoulas ya weather super weird looked like gon na rain today course didnt darnitt',\n",
              " 'kenyaimagine much injustice imagine get worse get better afraid doubt sorry',\n",
              " 'miss nostalgia everyone please kick tushar',\n",
              " 'soooim kind sick n tired b guy dish',\n",
              " 'class color day tomorrow last time lot remember tomorrow bet ill forget',\n",
              " 'staronmainest idk lol head hurt rly bad amp stomach hmm personally think ive 2 deal wit',\n",
              " 'keytar badtwin expensive',\n",
              " 'wtf facebook cleared whole survey last q night get better better else next',\n",
              " 'say good say bad afternoon httpplurkcompwxpdj',\n",
              " 'say ive got number 10 getting low httpplurkcompwxpdr',\n",
              " 'miss twitastic fwiends',\n",
              " 'dezireedivine take advice lookin phone cost relationship',\n",
              " 'playing street fighter iv seth raped',\n",
              " 'weird guy house without dont like',\n",
              " 'fuck wasting deodorant aint goin aint havin company let funk ya',\n",
              " 'summereyes wish knew curse tumblr',\n",
              " 'beautiful day shame ive got spend office',\n",
              " 'came q quotany recommended hairdresser u r full suggested others quot ego talked im line',\n",
              " 'business exam tomorrow',\n",
              " 'wtfjayr oh know budgeting',\n",
              " 'finished watching series return chaser war everything really quite crap compared used',\n",
              " 'wow realized havent checked twitter since 9am saw todo list good news got lot done bad newsdont know day went',\n",
              " 'httptwitpiccom664b7 miss bestfriend left school',\n",
              " 'ouch earphone shocked',\n",
              " 'allyycase im trying sleep working',\n",
              " 'tummy hurt',\n",
              " 'back grimsby suck bein back amazin wknd anyway',\n",
              " 'farewelling employee tonight',\n",
              " 'allysonalfonso haha 18 ive got one go curse none friend liking tai lol',\n",
              " 'gorgeous weather bike',\n",
              " 'morning water heating packed cant bath really want bath',\n",
              " 'heavenlyriot girl confusing',\n",
              " 'lyricallyme would',\n",
              " 'jamasweetie06 seeu shouldnt comin 4 city u comin 4',\n",
              " 'blackout city never good',\n",
              " 'angelazodiak aww maybe traumatized',\n",
              " 'wedplanworkshop flight already booked plus ggd2 1st birthday cant miss especially missed ggd1',\n",
              " 'mrskutcher live small market deliver dayold bread food bank time really tough even',\n",
              " 'drunk hickups pretty laid back great night still cant help mad situation put',\n",
              " 'think take medicine cuz laughing hard head much pain thought laughter gud',\n",
              " 'ugh much happened today really need hug',\n",
              " 'boring wan na go taekwando',\n",
              " 'watching leno second last time tonight show',\n",
              " 'n3rin3 ur pic gone',\n",
              " 'tongue still hurt need sleep',\n",
              " 'twitter',\n",
              " 'halfamind chris staying glasgow instead cause absolutely accomodation edinburgh due marathon',\n",
              " 'cant wait till sunday new episode supernatural 6 episode left',\n",
              " 'jwess awww ok lol hopefully im still back state',\n",
              " 'tisfortammy sad tweet sad',\n",
              " 'need little lie feeling great today boo',\n",
              " 'djcoombs workplace shortsleeved shirt absolutely necessary today',\n",
              " 'decided cant stand guykawasakis alltop spam longer',\n",
              " 'anal sex forgot lube damn may need go er',\n",
              " 'playn madden austin im going miss',\n",
              " 'miss rich',\n",
              " 'headache century coming feel fuck',\n",
              " 'disappointed know got silver award want gold award hate second best',\n",
              " 'please make livechat saturday cu go school weekdays56 jonasbrothers',\n",
              " 'want go back bed child look may sleep sunday enevitable hangover may require',\n",
              " 'got mad tired sex sleepytime night',\n",
              " 'twitter shit bore c havent month',\n",
              " 'anyone know convert 6 est au time rofl xd fucking radio disney',\n",
              " 'home ice cream tweetup first tweetup pic camera battery died last night forgot charge',\n",
              " 'sakshijuneja ok thats subtly saying im longer fave temme 1 thing firangs steal vocab ur eating word',\n",
              " 'scottymcc bye scotty im gon na miss ilylt333',\n",
              " 'new comment jowki wish time blog often httpcligszzre1p',\n",
              " 'get temporary tattoo would totally sad died',\n",
              " 'professor12 gray feel neglected',\n",
              " 'desertstar95 oh know feel damn representative bank america tried make sound like b',\n",
              " 'tired cold runny',\n",
              " 'narain dun wan na travel way lunch yeah nice place missing shanepunjab though',\n",
              " 'mass cleanout room rearranging sent mother buy bin bookshelf since mine suck bad mood',\n",
              " 'xmylifesastoryx rob got lucky game beat 209205',\n",
              " 'feeling really sick watching fifth element smoke cigg ugh hate cold',\n",
              " 'bah dont think bings fb fan page get 7500',\n",
              " 'someone save dont want pack anymore',\n",
              " 'home school shitest day today',\n",
              " 'markiti sweety sat table morningjust woke sweet ohbtwi think ill home around 7 pm xxx',\n",
              " 'bruise knee make hard skate tomorrow',\n",
              " 'hobosexual lol went buy new laptop feb already knew lol looked anyway walked away sadfaced',\n",
              " 'fyi internet thurstag saturday feeling become 800x productive day',\n",
              " 'sitting everyone took good seat',\n",
              " 'free wifi vacay ruined',\n",
              " 'sfannah ahhhhh well least im',\n",
              " 'mattpro13 maatt havent spoken age dudeee dont forget bout ur aussie fan lool love ya xx',\n",
              " 'dhughesy oh wait wrong state',\n",
              " 'fucking cold north like 77 df yesterday 374',\n",
              " 'u missing ur frnds hear quotmanasellaam quot kulir100 degree movie amazing nanbargale miss u guy',\n",
              " 'trying sleep without pill working 3am wide awake late take ill sleep til 3pm',\n",
              " 'phone die soon oh',\n",
              " 'sorry mean',\n",
              " 'forgot power cable home today',\n",
              " 'dog eye seem bad forked new washing machine vet bill top eh',\n",
              " 'cant sleep cant find grandmother quilt locket im sick cause may lost somehow stolen',\n",
              " 'zachmoore1 thought going see pic clean car',\n",
              " 'hot30 want im 18 tampc say 18 wan na make exception',\n",
              " 'ingridkerr amazing thing keeping online conversation one place unfortunately place google',\n",
              " 'rscheuer sorry spanish moment',\n",
              " 'ddlovato yayyyyyyyyyyy thats sp far away',\n",
              " 'must clear dvr getting rid tomorrw',\n",
              " 'bummed f f f broke',\n",
              " 'signed account political website could post comment isnt working',\n",
              " 'come never sleep past good',\n",
              " ...]"
            ]
          },
          "metadata": {},
          "execution_count": 14
        }
      ]
    },
    {
      "cell_type": "markdown",
      "source": [
        " Checking for missing values"
      ],
      "metadata": {
        "id": "5HMrffekqqc2"
      }
    },
    {
      "cell_type": "code",
      "source": [
        "data.isna().sum()"
      ],
      "metadata": {
        "colab": {
          "base_uri": "https://localhost:8080/"
        },
        "id": "F3xAZqgtqibJ",
        "outputId": "b16195d3-6e7e-4311-ce74-ffa7a692b5c3"
      },
      "execution_count": 15,
      "outputs": [
        {
          "output_type": "execute_result",
          "data": {
            "text/plain": [
              "tweet_id     0\n",
              "sentiment    0\n",
              "content      0\n",
              "dtype: int64"
            ]
          },
          "metadata": {},
          "execution_count": 15
        }
      ]
    },
    {
      "cell_type": "markdown",
      "source": [
        "As there is no missing value, we need not handle them"
      ],
      "metadata": {
        "id": "rSAoesqsq5Ae"
      }
    },
    {
      "cell_type": "markdown",
      "source": [
        "Feature Extraction: Word 2 Vec"
      ],
      "metadata": {
        "id": "l2fDfO48HuzN"
      }
    },
    {
      "cell_type": "code",
      "source": [
        "from gensim.models import Word2Vec"
      ],
      "metadata": {
        "id": "sB4wOGOIESvY"
      },
      "execution_count": 16,
      "outputs": []
    },
    {
      "cell_type": "code",
      "source": [
        "word2vec_model = Word2Vec(sentences=corpus, vector_size=100, window=5, min_count=1, workers=4)\n",
        "\n",
        "# Function to create document vectors by averaging word vectors\n",
        "def document_vector(words, model):\n",
        "    # Remove out-of-vocabulary words and handle empty texts\n",
        "    words = [word for word in words if word in model.wv.index_to_key]\n",
        "    if len(words) == 0:\n",
        "        return np.zeros(model.vector_size)\n",
        "    else:\n",
        "        return np.mean(model.wv[words], axis=0)\n",
        "\n",
        "# Create document vectors\n",
        "x= np.array([document_vector(text, word2vec_model) for text in corpus])\n"
      ],
      "metadata": {
        "colab": {
          "base_uri": "https://localhost:8080/"
        },
        "id": "p83XbrXQF_WX",
        "outputId": "dbc40232-1d13-48e3-f73f-531f0b2eada2"
      },
      "execution_count": 23,
      "outputs": [
        {
          "output_type": "stream",
          "name": "stderr",
          "text": [
            "WARNING:gensim.models.word2vec:Each 'sentences' item should be a list of words (usually unicode strings). First item here is instead plain <class 'str'>.\n"
          ]
        }
      ]
    },
    {
      "cell_type": "code",
      "source": [
        "\n",
        "y=data['sentiment']"
      ],
      "metadata": {
        "id": "k3fPshEiq94Z"
      },
      "execution_count": 24,
      "outputs": []
    },
    {
      "cell_type": "code",
      "source": [
        "x"
      ],
      "metadata": {
        "colab": {
          "base_uri": "https://localhost:8080/"
        },
        "id": "ExjsqHb8rucD",
        "outputId": "89d9ad07-02f5-41b7-c6ce-503de3d11615"
      },
      "execution_count": 25,
      "outputs": [
        {
          "output_type": "execute_result",
          "data": {
            "text/plain": [
              "array([[-0.13177472, -0.01240805,  0.02279986, ...,  0.03032978,\n",
              "        -0.01486854, -0.0601595 ],\n",
              "       [-0.09605473, -0.02408435, -0.0004591 , ...,  0.06114985,\n",
              "         0.00067852, -0.04123561],\n",
              "       [-0.10158604, -0.02487048,  0.06113547, ...,  0.09996901,\n",
              "         0.02248279, -0.08396704],\n",
              "       ...,\n",
              "       [-0.05714036, -0.09273102, -0.01999684, ...,  0.06991351,\n",
              "         0.09144031, -0.08313614],\n",
              "       [-0.15563956, -0.05063781,  0.01724872, ...,  0.0259412 ,\n",
              "         0.05988463, -0.07056596],\n",
              "       [-0.16698152, -0.00605428,  0.01944467, ...,  0.07563619,\n",
              "         0.02431072,  0.0058636 ]])"
            ]
          },
          "metadata": {},
          "execution_count": 25
        }
      ]
    },
    {
      "cell_type": "code",
      "source": [
        "y"
      ],
      "metadata": {
        "colab": {
          "base_uri": "https://localhost:8080/"
        },
        "id": "gnGoh81TrRrG",
        "outputId": "ee9ce5d4-d823-4dbb-ee1a-4715dcec9fe2"
      },
      "execution_count": 26,
      "outputs": [
        {
          "output_type": "execute_result",
          "data": {
            "text/plain": [
              "0             empty\n",
              "1           sadness\n",
              "2           sadness\n",
              "3        enthusiasm\n",
              "4           neutral\n",
              "            ...    \n",
              "39995       neutral\n",
              "39996          love\n",
              "39997          love\n",
              "39998     happiness\n",
              "39999          love\n",
              "Name: sentiment, Length: 40000, dtype: object"
            ]
          },
          "metadata": {},
          "execution_count": 26
        }
      ]
    },
    {
      "cell_type": "markdown",
      "source": [
        "Label encoding the target column"
      ],
      "metadata": {
        "id": "n51ATx_XtFj_"
      }
    },
    {
      "cell_type": "code",
      "source": [
        "from sklearn.preprocessing import LabelEncoder\n",
        "from tensorflow.keras.utils import to_categorical"
      ],
      "metadata": {
        "id": "Hee4p0XttL63"
      },
      "execution_count": 27,
      "outputs": []
    },
    {
      "cell_type": "code",
      "source": [
        "\n",
        "label_encoder = LabelEncoder()\n",
        "y_encoded = label_encoder.fit_transform(y)"
      ],
      "metadata": {
        "id": "6TbYb_bctDLA"
      },
      "execution_count": 28,
      "outputs": []
    },
    {
      "cell_type": "code",
      "source": [
        "y_encoded"
      ],
      "metadata": {
        "colab": {
          "base_uri": "https://localhost:8080/"
        },
        "id": "6FEAeDELtSzO",
        "outputId": "cba30d59-8f50-4436-e63c-b80731c8283b"
      },
      "execution_count": 29,
      "outputs": [
        {
          "output_type": "execute_result",
          "data": {
            "text/plain": [
              "array([ 2, 10, 10, ...,  7,  5,  7])"
            ]
          },
          "metadata": {},
          "execution_count": 29
        }
      ]
    },
    {
      "cell_type": "code",
      "source": [
        "y_one_hot = to_categorical(y_encoded)"
      ],
      "metadata": {
        "id": "2vUTsjNUt19Q"
      },
      "execution_count": 30,
      "outputs": []
    },
    {
      "cell_type": "markdown",
      "source": [
        "Split the dataset into training and testing sets"
      ],
      "metadata": {
        "id": "A5VeUX2NuggS"
      }
    },
    {
      "cell_type": "code",
      "source": [
        "from sklearn.model_selection import train_test_split"
      ],
      "metadata": {
        "id": "hdfnoT6JuV0f"
      },
      "execution_count": 31,
      "outputs": []
    },
    {
      "cell_type": "code",
      "source": [
        "x_train, x_test, y_train, y_test = train_test_split(x, y_encoded, test_size=0.2, random_state=42)\n"
      ],
      "metadata": {
        "id": "pIYtzoUgunC2"
      },
      "execution_count": 32,
      "outputs": []
    },
    {
      "cell_type": "markdown",
      "source": [
        "Model Building"
      ],
      "metadata": {
        "id": "OcqSue6avrfi"
      }
    },
    {
      "cell_type": "code",
      "source": [
        "from sklearn.ensemble import RandomForestClassifier\n",
        "from sklearn.metrics import accuracy_score, classification_report"
      ],
      "metadata": {
        "id": "_tevEuEPwBCk"
      },
      "execution_count": 34,
      "outputs": []
    },
    {
      "cell_type": "code",
      "source": [
        "#Random Forest\n",
        "rf_model = RandomForestClassifier(n_estimators=100,\n",
        "    max_depth=20,\n",
        "    n_jobs=-1,\n",
        "    random_state=42)\n",
        "rf_model.fit(x_train, y_train)\n",
        "y_pred_rf = rf_model.predict(x_test)\n",
        "rf_accuracy = accuracy_score(y_test, y_pred_rf)\n",
        "print(f\"Random Forest Accuracy: {rf_accuracy}\")"
      ],
      "metadata": {
        "colab": {
          "base_uri": "https://localhost:8080/"
        },
        "id": "xJ0cGe7jvV-h",
        "outputId": "510168cc-57e9-4d8f-851e-92dbba839967"
      },
      "execution_count": 37,
      "outputs": [
        {
          "output_type": "stream",
          "name": "stdout",
          "text": [
            "Random Forest Accuracy: 0.2555\n"
          ]
        }
      ]
    },
    {
      "cell_type": "code",
      "source": [
        "\n",
        "print(classification_report(y_test, y_pred_rf, target_names=label_encoder.classes_))"
      ],
      "metadata": {
        "colab": {
          "base_uri": "https://localhost:8080/"
        },
        "id": "hzNjY5hC0fYI",
        "outputId": "5ee8ccba-fb9a-4ed4-efbc-37def7bd65ab"
      },
      "execution_count": 38,
      "outputs": [
        {
          "output_type": "stream",
          "name": "stdout",
          "text": [
            "              precision    recall  f1-score   support\n",
            "\n",
            "       anger       0.00      0.00      0.00        19\n",
            "     boredom       0.00      0.00      0.00        31\n",
            "       empty       0.00      0.00      0.00       162\n",
            "  enthusiasm       0.00      0.00      0.00       163\n",
            "         fun       0.00      0.00      0.00       338\n",
            "   happiness       0.23      0.07      0.11      1028\n",
            "        hate       0.00      0.00      0.00       268\n",
            "        love       0.37      0.10      0.16       762\n",
            "     neutral       0.28      0.49      0.36      1740\n",
            "      relief       0.00      0.00      0.00       352\n",
            "     sadness       0.16      0.03      0.04      1046\n",
            "    surprise       0.00      0.00      0.00       425\n",
            "       worry       0.24      0.61      0.34      1666\n",
            "\n",
            "    accuracy                           0.26      8000\n",
            "   macro avg       0.10      0.10      0.08      8000\n",
            "weighted avg       0.20      0.26      0.18      8000\n",
            "\n"
          ]
        },
        {
          "output_type": "stream",
          "name": "stderr",
          "text": [
            "/usr/local/lib/python3.10/dist-packages/sklearn/metrics/_classification.py:1344: UndefinedMetricWarning: Precision and F-score are ill-defined and being set to 0.0 in labels with no predicted samples. Use `zero_division` parameter to control this behavior.\n",
            "  _warn_prf(average, modifier, msg_start, len(result))\n",
            "/usr/local/lib/python3.10/dist-packages/sklearn/metrics/_classification.py:1344: UndefinedMetricWarning: Precision and F-score are ill-defined and being set to 0.0 in labels with no predicted samples. Use `zero_division` parameter to control this behavior.\n",
            "  _warn_prf(average, modifier, msg_start, len(result))\n",
            "/usr/local/lib/python3.10/dist-packages/sklearn/metrics/_classification.py:1344: UndefinedMetricWarning: Precision and F-score are ill-defined and being set to 0.0 in labels with no predicted samples. Use `zero_division` parameter to control this behavior.\n",
            "  _warn_prf(average, modifier, msg_start, len(result))\n"
          ]
        }
      ]
    },
    {
      "cell_type": "code",
      "source": [
        "from sklearn.linear_model import LogisticRegression"
      ],
      "metadata": {
        "id": "ay78bO0P1l7n"
      },
      "execution_count": 35,
      "outputs": []
    },
    {
      "cell_type": "code",
      "source": [
        "# Logistic Regression\n",
        "lr_model = LogisticRegression()\n",
        "lr_model.fit(x_train, y_train)\n",
        "y_pred_lr = lr_model.predict(x_test)\n",
        "lr_accuracy = accuracy_score(y_test, y_pred_lr)\n",
        "print(f\"Logistic Regression Accuracy: {lr_accuracy}\")\n",
        "print(\"Logistic Regression Classification Report\")\n",
        "print(classification_report(y_test, y_pred_lr, target_names=label_encoder.classes_))"
      ],
      "metadata": {
        "colab": {
          "base_uri": "https://localhost:8080/"
        },
        "id": "Y4NZP7pR1R_i",
        "outputId": "0b3ec199-a322-46bd-f302-6f24554cf157"
      },
      "execution_count": 36,
      "outputs": [
        {
          "output_type": "stream",
          "name": "stdout",
          "text": [
            "Logistic Regression Accuracy: 0.2555\n",
            "Logistic Regression Classification Report\n",
            "              precision    recall  f1-score   support\n",
            "\n",
            "       anger       0.00      0.00      0.00        19\n",
            "     boredom       0.00      0.00      0.00        31\n",
            "       empty       0.00      0.00      0.00       162\n",
            "  enthusiasm       0.00      0.00      0.00       163\n",
            "         fun       0.00      0.00      0.00       338\n",
            "   happiness       0.10      0.01      0.02      1028\n",
            "        hate       0.00      0.00      0.00       268\n",
            "        love       0.29      0.11      0.16       762\n",
            "     neutral       0.28      0.52      0.37      1740\n",
            "      relief       0.00      0.00      0.00       352\n",
            "     sadness       0.25      0.00      0.01      1046\n",
            "    surprise       0.00      0.00      0.00       425\n",
            "       worry       0.24      0.62      0.34      1666\n",
            "\n",
            "    accuracy                           0.26      8000\n",
            "   macro avg       0.09      0.10      0.07      8000\n",
            "weighted avg       0.18      0.26      0.17      8000\n",
            "\n"
          ]
        },
        {
          "output_type": "stream",
          "name": "stderr",
          "text": [
            "/usr/local/lib/python3.10/dist-packages/sklearn/linear_model/_logistic.py:458: ConvergenceWarning: lbfgs failed to converge (status=1):\n",
            "STOP: TOTAL NO. of ITERATIONS REACHED LIMIT.\n",
            "\n",
            "Increase the number of iterations (max_iter) or scale the data as shown in:\n",
            "    https://scikit-learn.org/stable/modules/preprocessing.html\n",
            "Please also refer to the documentation for alternative solver options:\n",
            "    https://scikit-learn.org/stable/modules/linear_model.html#logistic-regression\n",
            "  n_iter_i = _check_optimize_result(\n",
            "/usr/local/lib/python3.10/dist-packages/sklearn/metrics/_classification.py:1344: UndefinedMetricWarning: Precision and F-score are ill-defined and being set to 0.0 in labels with no predicted samples. Use `zero_division` parameter to control this behavior.\n",
            "  _warn_prf(average, modifier, msg_start, len(result))\n",
            "/usr/local/lib/python3.10/dist-packages/sklearn/metrics/_classification.py:1344: UndefinedMetricWarning: Precision and F-score are ill-defined and being set to 0.0 in labels with no predicted samples. Use `zero_division` parameter to control this behavior.\n",
            "  _warn_prf(average, modifier, msg_start, len(result))\n",
            "/usr/local/lib/python3.10/dist-packages/sklearn/metrics/_classification.py:1344: UndefinedMetricWarning: Precision and F-score are ill-defined and being set to 0.0 in labels with no predicted samples. Use `zero_division` parameter to control this behavior.\n",
            "  _warn_prf(average, modifier, msg_start, len(result))\n"
          ]
        }
      ]
    },
    {
      "cell_type": "code",
      "source": [
        "x_train_array.shape[1]"
      ],
      "metadata": {
        "colab": {
          "base_uri": "https://localhost:8080/"
        },
        "id": "ALFaz-I_x7ix",
        "outputId": "2e2bd47c-d904-401a-e156-200f33e14473"
      },
      "execution_count": 29,
      "outputs": [
        {
          "output_type": "execute_result",
          "data": {
            "text/plain": [
              "253419"
            ]
          },
          "metadata": {},
          "execution_count": 29
        }
      ]
    },
    {
      "cell_type": "code",
      "source": [
        "from tensorflow.keras.models import Sequential\n",
        "from tensorflow.keras.layers import Dense, Dropout, Embedding, LSTM"
      ],
      "metadata": {
        "id": "sRBQy1w3zPjY"
      },
      "execution_count": 39,
      "outputs": []
    },
    {
      "cell_type": "code",
      "source": [
        "\n",
        "# Artificial Neural Network\n",
        "ann_model = Sequential()\n",
        "ann_model.add(Dense(200, input_dim=x_train.shape[1], activation='relu'))\n",
        "ann_model.add(Dropout(0.5))\n",
        "ann_model.add(Dense(128, activation='relu'))\n",
        "ann_model.add(Dropout(0.5))\n",
        "ann_model.add(Dense(50, activation='relu'))\n",
        "ann_model.add(Dropout(0.5))\n",
        "ann_model.add(Dense(len(label_encoder.classes_), activation='softmax'))\n",
        "\n"
      ],
      "metadata": {
        "id": "jhlKUlU8xLGO"
      },
      "execution_count": 41,
      "outputs": []
    },
    {
      "cell_type": "code",
      "source": [
        "ann_model.compile(loss='sparse_categorical_crossentropy', optimizer='adam', metrics=['accuracy'])"
      ],
      "metadata": {
        "id": "mG54tO8l2bJW"
      },
      "execution_count": 42,
      "outputs": []
    },
    {
      "cell_type": "code",
      "source": [
        "ann_model.fit(x_train, y_train, epochs=8, batch_size=32, validation_data=(x_test, y_test))"
      ],
      "metadata": {
        "colab": {
          "base_uri": "https://localhost:8080/"
        },
        "id": "Hft_v4162eV0",
        "outputId": "74f87894-2e87-4775-846b-ec96c46df71e"
      },
      "execution_count": 44,
      "outputs": [
        {
          "output_type": "stream",
          "name": "stdout",
          "text": [
            "Epoch 1/8\n",
            "1000/1000 [==============================] - 11s 8ms/step - loss: 2.2031 - accuracy: 0.2098 - val_loss: 2.1496 - val_accuracy: 0.2139\n",
            "Epoch 2/8\n",
            "1000/1000 [==============================] - 4s 4ms/step - loss: 2.1571 - accuracy: 0.2259 - val_loss: 2.1417 - val_accuracy: 0.2390\n",
            "Epoch 3/8\n",
            "1000/1000 [==============================] - 4s 4ms/step - loss: 2.1439 - accuracy: 0.2368 - val_loss: 2.1292 - val_accuracy: 0.2500\n",
            "Epoch 4/8\n",
            "1000/1000 [==============================] - 6s 6ms/step - loss: 2.1340 - accuracy: 0.2438 - val_loss: 2.1285 - val_accuracy: 0.2562\n",
            "Epoch 5/8\n",
            "1000/1000 [==============================] - 4s 4ms/step - loss: 2.1310 - accuracy: 0.2469 - val_loss: 2.1226 - val_accuracy: 0.2582\n",
            "Epoch 6/8\n",
            "1000/1000 [==============================] - 4s 4ms/step - loss: 2.1281 - accuracy: 0.2463 - val_loss: 2.1215 - val_accuracy: 0.2546\n",
            "Epoch 7/8\n",
            "1000/1000 [==============================] - 6s 6ms/step - loss: 2.1246 - accuracy: 0.2469 - val_loss: 2.1239 - val_accuracy: 0.2521\n",
            "Epoch 8/8\n",
            "1000/1000 [==============================] - 4s 4ms/step - loss: 2.1257 - accuracy: 0.2501 - val_loss: 2.1190 - val_accuracy: 0.2520\n"
          ]
        },
        {
          "output_type": "execute_result",
          "data": {
            "text/plain": [
              "<keras.src.callbacks.History at 0x7c2e43fc5390>"
            ]
          },
          "metadata": {},
          "execution_count": 44
        }
      ]
    },
    {
      "cell_type": "code",
      "source": [
        "#Evaluating the ANN model\n",
        "ann_loss, ann_accuracy = ann_model.evaluate(x_test, y_test)\n",
        "print(f\"Artificial Neural Network Accuracy: {ann_accuracy}\")"
      ],
      "metadata": {
        "colab": {
          "base_uri": "https://localhost:8080/"
        },
        "id": "CZAT2EyJ2qTM",
        "outputId": "0ad999d0-10bb-4290-97c5-b7b2510e6346"
      },
      "execution_count": 45,
      "outputs": [
        {
          "output_type": "stream",
          "name": "stdout",
          "text": [
            "250/250 [==============================] - 1s 2ms/step - loss: 2.1190 - accuracy: 0.2520\n",
            "Artificial Neural Network Accuracy: 0.25200000405311584\n"
          ]
        }
      ]
    },
    {
      "cell_type": "code",
      "source": [
        "# Predicting the ANN Model\n",
        "y_pred_ann = ann_model.predict(x_test)\n",
        "y_pred_ann_classes = y_pred_ann.argmax(axis=-1)"
      ],
      "metadata": {
        "colab": {
          "base_uri": "https://localhost:8080/"
        },
        "id": "u1QCEznW-j7H",
        "outputId": "47c670a8-c9e2-467a-e30a-6b140e44c45f"
      },
      "execution_count": 46,
      "outputs": [
        {
          "output_type": "stream",
          "name": "stdout",
          "text": [
            "250/250 [==============================] - 1s 2ms/step\n"
          ]
        }
      ]
    },
    {
      "cell_type": "code",
      "source": [],
      "metadata": {
        "id": "syPT7kdd-feg"
      },
      "execution_count": null,
      "outputs": []
    },
    {
      "cell_type": "code",
      "source": [
        "from tensorflow.keras.preprocessing.text import Tokenizer\n",
        "from tensorflow.keras.preprocessing.sequence import pad_sequences\n"
      ],
      "metadata": {
        "id": "LITdovd5zEh-"
      },
      "execution_count": 47,
      "outputs": []
    },
    {
      "cell_type": "code",
      "source": [
        "# Recurrent Neural Network (LSTM)\n",
        "tokenizer = Tokenizer(num_words=5000)\n",
        "tokenizer.fit_on_texts(corpus)\n",
        "x_seq = tokenizer.texts_to_sequences(corpus)\n",
        "x_padded = pad_sequences(x_seq, maxlen=100)\n",
        "\n",
        "x_train_seq, x_test_seq, y_train_seq, y_test_seq = train_test_split(x_padded, y_encoded, test_size=0.2, random_state=42)\n",
        "\n",
        "lstm_model = Sequential()\n",
        "lstm_model.add(Embedding(input_dim=5000, output_dim=100, input_length=100))\n",
        "lstm_model.add(LSTM(128))\n",
        "lstm_model.add(Dense(len(label_encoder.classes_), activation='softmax'))\n",
        "\n",
        "lstm_model.compile(loss='sparse_categorical_crossentropy', optimizer='adam', metrics=['accuracy'])\n",
        "\n",
        "lstm_model.fit(x_train_seq, y_train_seq, epochs=10, batch_size=32, validation_data=(x_test_seq, y_test_seq))\n",
        "\n",
        "lstm_loss, lstm_accuracy = lstm_model.evaluate(x_test_seq, y_test_seq)\n",
        "print(f\"LSTM Model Accuracy: {lstm_accuracy}\")"
      ],
      "metadata": {
        "colab": {
          "base_uri": "https://localhost:8080/"
        },
        "id": "NykQ7LEnyABF",
        "outputId": "db4be60c-896d-4be3-cf96-44d6456cd803"
      },
      "execution_count": 48,
      "outputs": [
        {
          "output_type": "stream",
          "name": "stdout",
          "text": [
            "Epoch 1/10\n",
            "1000/1000 [==============================] - 263s 261ms/step - loss: 2.0030 - accuracy: 0.3095 - val_loss: 1.9193 - val_accuracy: 0.3466\n",
            "Epoch 2/10\n",
            "1000/1000 [==============================] - 211s 211ms/step - loss: 1.8195 - accuracy: 0.3903 - val_loss: 1.9040 - val_accuracy: 0.3528\n",
            "Epoch 3/10\n",
            "1000/1000 [==============================] - 216s 216ms/step - loss: 1.7039 - accuracy: 0.4313 - val_loss: 1.9351 - val_accuracy: 0.3444\n",
            "Epoch 4/10\n",
            "1000/1000 [==============================] - 205s 205ms/step - loss: 1.5813 - accuracy: 0.4715 - val_loss: 1.9935 - val_accuracy: 0.3307\n",
            "Epoch 5/10\n",
            "1000/1000 [==============================] - 207s 207ms/step - loss: 1.4612 - accuracy: 0.5089 - val_loss: 2.0860 - val_accuracy: 0.3207\n",
            "Epoch 6/10\n",
            "1000/1000 [==============================] - 200s 200ms/step - loss: 1.3388 - accuracy: 0.5475 - val_loss: 2.2228 - val_accuracy: 0.3071\n",
            "Epoch 7/10\n",
            "1000/1000 [==============================] - 201s 201ms/step - loss: 1.2155 - accuracy: 0.5907 - val_loss: 2.3610 - val_accuracy: 0.3015\n",
            "Epoch 8/10\n",
            "1000/1000 [==============================] - 208s 208ms/step - loss: 1.0963 - accuracy: 0.6283 - val_loss: 2.6080 - val_accuracy: 0.2945\n",
            "Epoch 9/10\n",
            "1000/1000 [==============================] - 211s 211ms/step - loss: 0.9826 - accuracy: 0.6694 - val_loss: 2.8726 - val_accuracy: 0.2948\n",
            "Epoch 10/10\n",
            "1000/1000 [==============================] - 206s 206ms/step - loss: 0.8800 - accuracy: 0.7045 - val_loss: 3.1480 - val_accuracy: 0.2878\n",
            "250/250 [==============================] - 17s 69ms/step - loss: 3.1480 - accuracy: 0.2878\n",
            "LSTM Model Accuracy: 0.2877500057220459\n"
          ]
        }
      ]
    },
    {
      "cell_type": "code",
      "source": [
        "\n",
        "\n",
        "# Evaluating the Results\n",
        "results = {\n",
        "    \"Model\": [ \"Logistic Regression\",\"Random Forest\" \"Simple Neural Network\", \"LSTM\"],\n",
        "    \"Accuracy\": [ rf_accuracy, lr_accuracy, ann_accuracy, lstm_accuracy]\n",
        "}\n",
        "\n",
        "# results_df = pd.DataFrame(results)\n",
        "print(results)"
      ],
      "metadata": {
        "colab": {
          "base_uri": "https://localhost:8080/"
        },
        "id": "TCG4YRFfy64p",
        "outputId": "52848f59-8cf6-4173-e6e9-e9ce845577fe"
      },
      "execution_count": 52,
      "outputs": [
        {
          "output_type": "stream",
          "name": "stdout",
          "text": [
            "{'Model': ['Logistic Regression', 'Random ForestSimple Neural Network', 'LSTM'], 'Accuracy': [0.2555, 0.2555, 0.25200000405311584, 0.2877500057220459]}\n"
          ]
        }
      ]
    }
  ]
}